{
 "metadata": {
  "language_info": {
   "codemirror_mode": {
    "name": "ipython",
    "version": 3
   },
   "file_extension": ".py",
   "mimetype": "text/x-python",
   "name": "python",
   "nbconvert_exporter": "python",
   "pygments_lexer": "ipython3",
   "version": "3.7.7-final"
  },
  "orig_nbformat": 2,
  "kernelspec": {
   "name": "Python 3.7.7 64-bit ('geodata20': conda)",
   "display_name": "Python 3.7.7 64-bit ('geodata20': conda)",
   "metadata": {
    "interpreter": {
     "hash": "bd04f98157870cf5e13f46115ec3cad89c473388f13b7e80b8cdb055f9535315"
    }
   }
  }
 },
 "nbformat": 4,
 "nbformat_minor": 2,
 "cells": [
  {
   "cell_type": "code",
   "execution_count": 31,
   "metadata": {},
   "outputs": [],
   "source": [
    "import pandas as pd \n",
    "import numpy as np\n",
    "import geopandas as gpd\n",
    "import plotly.offline as pyo \n",
    "import plotly.graph_objs as go\n",
    "import plotly.figure_factory as ff\n",
    "from plotly import tools\n",
    "pd.set_option('display.max_rows', 100)"
   ]
  },
  {
   "cell_type": "code",
   "execution_count": 32,
   "metadata": {},
   "outputs": [
    {
     "output_type": "error",
     "ename": "KeyboardInterrupt",
     "evalue": "",
     "traceback": [
      "\u001b[1;31m---------------------------------------------------------------------------\u001b[0m",
      "\u001b[1;31mKeyboardInterrupt\u001b[0m                         Traceback (most recent call last)",
      "\u001b[1;32m<ipython-input-32-9edeade7737f>\u001b[0m in \u001b[0;36m<module>\u001b[1;34m\u001b[0m\n\u001b[1;32m----> 1\u001b[1;33m \u001b[0mconceito\u001b[0m \u001b[1;33m=\u001b[0m \u001b[0mpd\u001b[0m\u001b[1;33m.\u001b[0m\u001b[0mread_excel\u001b[0m\u001b[1;33m(\u001b[0m\u001b[1;34m'../dados/Conceito_Enade_Todas_as_IES_2019_XLXS.xlsx'\u001b[0m\u001b[1;33m)\u001b[0m\u001b[1;33m\u001b[0m\u001b[1;33m\u001b[0m\u001b[0m\n\u001b[0m",
      "\u001b[1;32m~\\Anaconda3\\envs\\geodata20\\lib\\site-packages\\pandas\\io\\excel\\_base.py\u001b[0m in \u001b[0;36mread_excel\u001b[1;34m(io, sheet_name, header, names, index_col, usecols, squeeze, dtype, engine, converters, true_values, false_values, skiprows, nrows, na_values, keep_default_na, verbose, parse_dates, date_parser, thousands, comment, skipfooter, convert_float, mangle_dupe_cols, **kwds)\u001b[0m\n\u001b[0;32m    302\u001b[0m \u001b[1;33m\u001b[0m\u001b[0m\n\u001b[0;32m    303\u001b[0m     \u001b[1;32mif\u001b[0m \u001b[1;32mnot\u001b[0m \u001b[0misinstance\u001b[0m\u001b[1;33m(\u001b[0m\u001b[0mio\u001b[0m\u001b[1;33m,\u001b[0m \u001b[0mExcelFile\u001b[0m\u001b[1;33m)\u001b[0m\u001b[1;33m:\u001b[0m\u001b[1;33m\u001b[0m\u001b[1;33m\u001b[0m\u001b[0m\n\u001b[1;32m--> 304\u001b[1;33m         \u001b[0mio\u001b[0m \u001b[1;33m=\u001b[0m \u001b[0mExcelFile\u001b[0m\u001b[1;33m(\u001b[0m\u001b[0mio\u001b[0m\u001b[1;33m,\u001b[0m \u001b[0mengine\u001b[0m\u001b[1;33m=\u001b[0m\u001b[0mengine\u001b[0m\u001b[1;33m)\u001b[0m\u001b[1;33m\u001b[0m\u001b[1;33m\u001b[0m\u001b[0m\n\u001b[0m\u001b[0;32m    305\u001b[0m     \u001b[1;32melif\u001b[0m \u001b[0mengine\u001b[0m \u001b[1;32mand\u001b[0m \u001b[0mengine\u001b[0m \u001b[1;33m!=\u001b[0m \u001b[0mio\u001b[0m\u001b[1;33m.\u001b[0m\u001b[0mengine\u001b[0m\u001b[1;33m:\u001b[0m\u001b[1;33m\u001b[0m\u001b[1;33m\u001b[0m\u001b[0m\n\u001b[0;32m    306\u001b[0m         raise ValueError(\n",
      "\u001b[1;32m~\\Anaconda3\\envs\\geodata20\\lib\\site-packages\\pandas\\io\\excel\\_base.py\u001b[0m in \u001b[0;36m__init__\u001b[1;34m(self, io, engine)\u001b[0m\n\u001b[0;32m    822\u001b[0m         \u001b[0mself\u001b[0m\u001b[1;33m.\u001b[0m\u001b[0m_io\u001b[0m \u001b[1;33m=\u001b[0m \u001b[0mstringify_path\u001b[0m\u001b[1;33m(\u001b[0m\u001b[0mio\u001b[0m\u001b[1;33m)\u001b[0m\u001b[1;33m\u001b[0m\u001b[1;33m\u001b[0m\u001b[0m\n\u001b[0;32m    823\u001b[0m \u001b[1;33m\u001b[0m\u001b[0m\n\u001b[1;32m--> 824\u001b[1;33m         \u001b[0mself\u001b[0m\u001b[1;33m.\u001b[0m\u001b[0m_reader\u001b[0m \u001b[1;33m=\u001b[0m \u001b[0mself\u001b[0m\u001b[1;33m.\u001b[0m\u001b[0m_engines\u001b[0m\u001b[1;33m[\u001b[0m\u001b[0mengine\u001b[0m\u001b[1;33m]\u001b[0m\u001b[1;33m(\u001b[0m\u001b[0mself\u001b[0m\u001b[1;33m.\u001b[0m\u001b[0m_io\u001b[0m\u001b[1;33m)\u001b[0m\u001b[1;33m\u001b[0m\u001b[1;33m\u001b[0m\u001b[0m\n\u001b[0m\u001b[0;32m    825\u001b[0m \u001b[1;33m\u001b[0m\u001b[0m\n\u001b[0;32m    826\u001b[0m     \u001b[1;32mdef\u001b[0m \u001b[0m__fspath__\u001b[0m\u001b[1;33m(\u001b[0m\u001b[0mself\u001b[0m\u001b[1;33m)\u001b[0m\u001b[1;33m:\u001b[0m\u001b[1;33m\u001b[0m\u001b[1;33m\u001b[0m\u001b[0m\n",
      "\u001b[1;32m~\\Anaconda3\\envs\\geodata20\\lib\\site-packages\\pandas\\io\\excel\\_xlrd.py\u001b[0m in \u001b[0;36m__init__\u001b[1;34m(self, filepath_or_buffer)\u001b[0m\n\u001b[0;32m     19\u001b[0m         \u001b[0merr_msg\u001b[0m \u001b[1;33m=\u001b[0m \u001b[1;34m\"Install xlrd >= 1.0.0 for Excel support\"\u001b[0m\u001b[1;33m\u001b[0m\u001b[1;33m\u001b[0m\u001b[0m\n\u001b[0;32m     20\u001b[0m         \u001b[0mimport_optional_dependency\u001b[0m\u001b[1;33m(\u001b[0m\u001b[1;34m\"xlrd\"\u001b[0m\u001b[1;33m,\u001b[0m \u001b[0mextra\u001b[0m\u001b[1;33m=\u001b[0m\u001b[0merr_msg\u001b[0m\u001b[1;33m)\u001b[0m\u001b[1;33m\u001b[0m\u001b[1;33m\u001b[0m\u001b[0m\n\u001b[1;32m---> 21\u001b[1;33m         \u001b[0msuper\u001b[0m\u001b[1;33m(\u001b[0m\u001b[1;33m)\u001b[0m\u001b[1;33m.\u001b[0m\u001b[0m__init__\u001b[0m\u001b[1;33m(\u001b[0m\u001b[0mfilepath_or_buffer\u001b[0m\u001b[1;33m)\u001b[0m\u001b[1;33m\u001b[0m\u001b[1;33m\u001b[0m\u001b[0m\n\u001b[0m\u001b[0;32m     22\u001b[0m \u001b[1;33m\u001b[0m\u001b[0m\n\u001b[0;32m     23\u001b[0m     \u001b[1;33m@\u001b[0m\u001b[0mproperty\u001b[0m\u001b[1;33m\u001b[0m\u001b[1;33m\u001b[0m\u001b[0m\n",
      "\u001b[1;32m~\\Anaconda3\\envs\\geodata20\\lib\\site-packages\\pandas\\io\\excel\\_base.py\u001b[0m in \u001b[0;36m__init__\u001b[1;34m(self, filepath_or_buffer)\u001b[0m\n\u001b[0;32m    351\u001b[0m             \u001b[0mself\u001b[0m\u001b[1;33m.\u001b[0m\u001b[0mbook\u001b[0m \u001b[1;33m=\u001b[0m \u001b[0mself\u001b[0m\u001b[1;33m.\u001b[0m\u001b[0mload_workbook\u001b[0m\u001b[1;33m(\u001b[0m\u001b[0mfilepath_or_buffer\u001b[0m\u001b[1;33m)\u001b[0m\u001b[1;33m\u001b[0m\u001b[1;33m\u001b[0m\u001b[0m\n\u001b[0;32m    352\u001b[0m         \u001b[1;32melif\u001b[0m \u001b[0misinstance\u001b[0m\u001b[1;33m(\u001b[0m\u001b[0mfilepath_or_buffer\u001b[0m\u001b[1;33m,\u001b[0m \u001b[0mstr\u001b[0m\u001b[1;33m)\u001b[0m\u001b[1;33m:\u001b[0m\u001b[1;33m\u001b[0m\u001b[1;33m\u001b[0m\u001b[0m\n\u001b[1;32m--> 353\u001b[1;33m             \u001b[0mself\u001b[0m\u001b[1;33m.\u001b[0m\u001b[0mbook\u001b[0m \u001b[1;33m=\u001b[0m \u001b[0mself\u001b[0m\u001b[1;33m.\u001b[0m\u001b[0mload_workbook\u001b[0m\u001b[1;33m(\u001b[0m\u001b[0mfilepath_or_buffer\u001b[0m\u001b[1;33m)\u001b[0m\u001b[1;33m\u001b[0m\u001b[1;33m\u001b[0m\u001b[0m\n\u001b[0m\u001b[0;32m    354\u001b[0m         \u001b[1;32melif\u001b[0m \u001b[0misinstance\u001b[0m\u001b[1;33m(\u001b[0m\u001b[0mfilepath_or_buffer\u001b[0m\u001b[1;33m,\u001b[0m \u001b[0mbytes\u001b[0m\u001b[1;33m)\u001b[0m\u001b[1;33m:\u001b[0m\u001b[1;33m\u001b[0m\u001b[1;33m\u001b[0m\u001b[0m\n\u001b[0;32m    355\u001b[0m             \u001b[0mself\u001b[0m\u001b[1;33m.\u001b[0m\u001b[0mbook\u001b[0m \u001b[1;33m=\u001b[0m \u001b[0mself\u001b[0m\u001b[1;33m.\u001b[0m\u001b[0mload_workbook\u001b[0m\u001b[1;33m(\u001b[0m\u001b[0mBytesIO\u001b[0m\u001b[1;33m(\u001b[0m\u001b[0mfilepath_or_buffer\u001b[0m\u001b[1;33m)\u001b[0m\u001b[1;33m)\u001b[0m\u001b[1;33m\u001b[0m\u001b[1;33m\u001b[0m\u001b[0m\n",
      "\u001b[1;32m~\\Anaconda3\\envs\\geodata20\\lib\\site-packages\\pandas\\io\\excel\\_xlrd.py\u001b[0m in \u001b[0;36mload_workbook\u001b[1;34m(self, filepath_or_buffer)\u001b[0m\n\u001b[0;32m     34\u001b[0m             \u001b[1;32mreturn\u001b[0m \u001b[0mopen_workbook\u001b[0m\u001b[1;33m(\u001b[0m\u001b[0mfile_contents\u001b[0m\u001b[1;33m=\u001b[0m\u001b[0mdata\u001b[0m\u001b[1;33m)\u001b[0m\u001b[1;33m\u001b[0m\u001b[1;33m\u001b[0m\u001b[0m\n\u001b[0;32m     35\u001b[0m         \u001b[1;32melse\u001b[0m\u001b[1;33m:\u001b[0m\u001b[1;33m\u001b[0m\u001b[1;33m\u001b[0m\u001b[0m\n\u001b[1;32m---> 36\u001b[1;33m             \u001b[1;32mreturn\u001b[0m \u001b[0mopen_workbook\u001b[0m\u001b[1;33m(\u001b[0m\u001b[0mfilepath_or_buffer\u001b[0m\u001b[1;33m)\u001b[0m\u001b[1;33m\u001b[0m\u001b[1;33m\u001b[0m\u001b[0m\n\u001b[0m\u001b[0;32m     37\u001b[0m \u001b[1;33m\u001b[0m\u001b[0m\n\u001b[0;32m     38\u001b[0m     \u001b[1;33m@\u001b[0m\u001b[0mproperty\u001b[0m\u001b[1;33m\u001b[0m\u001b[1;33m\u001b[0m\u001b[0m\n",
      "\u001b[1;32m~\\Anaconda3\\envs\\geodata20\\lib\\site-packages\\xlrd\\__init__.py\u001b[0m in \u001b[0;36mopen_workbook\u001b[1;34m(filename, logfile, verbosity, use_mmap, file_contents, encoding_override, formatting_info, on_demand, ragged_rows)\u001b[0m\n\u001b[0;32m    136\u001b[0m                 \u001b[0mformatting_info\u001b[0m\u001b[1;33m=\u001b[0m\u001b[0mformatting_info\u001b[0m\u001b[1;33m,\u001b[0m\u001b[1;33m\u001b[0m\u001b[1;33m\u001b[0m\u001b[0m\n\u001b[0;32m    137\u001b[0m                 \u001b[0mon_demand\u001b[0m\u001b[1;33m=\u001b[0m\u001b[0mon_demand\u001b[0m\u001b[1;33m,\u001b[0m\u001b[1;33m\u001b[0m\u001b[1;33m\u001b[0m\u001b[0m\n\u001b[1;32m--> 138\u001b[1;33m                 \u001b[0mragged_rows\u001b[0m\u001b[1;33m=\u001b[0m\u001b[0mragged_rows\u001b[0m\u001b[1;33m,\u001b[0m\u001b[1;33m\u001b[0m\u001b[1;33m\u001b[0m\u001b[0m\n\u001b[0m\u001b[0;32m    139\u001b[0m             )\n\u001b[0;32m    140\u001b[0m             \u001b[1;32mreturn\u001b[0m \u001b[0mbk\u001b[0m\u001b[1;33m\u001b[0m\u001b[1;33m\u001b[0m\u001b[0m\n",
      "\u001b[1;32m~\\Anaconda3\\envs\\geodata20\\lib\\site-packages\\xlrd\\xlsx.py\u001b[0m in \u001b[0;36mopen_workbook_2007_xml\u001b[1;34m(zf, component_names, logfile, verbosity, use_mmap, formatting_info, on_demand, ragged_rows)\u001b[0m\n\u001b[0;32m    839\u001b[0m         \u001b[0mx12sheet\u001b[0m \u001b[1;33m=\u001b[0m \u001b[0mX12Sheet\u001b[0m\u001b[1;33m(\u001b[0m\u001b[0msheet\u001b[0m\u001b[1;33m,\u001b[0m \u001b[0mlogfile\u001b[0m\u001b[1;33m,\u001b[0m \u001b[0mverbosity\u001b[0m\u001b[1;33m)\u001b[0m\u001b[1;33m\u001b[0m\u001b[1;33m\u001b[0m\u001b[0m\n\u001b[0;32m    840\u001b[0m         \u001b[0mheading\u001b[0m \u001b[1;33m=\u001b[0m \u001b[1;34m\"Sheet %r (sheetx=%d) from %r\"\u001b[0m \u001b[1;33m%\u001b[0m \u001b[1;33m(\u001b[0m\u001b[0msheet\u001b[0m\u001b[1;33m.\u001b[0m\u001b[0mname\u001b[0m\u001b[1;33m,\u001b[0m \u001b[0msheetx\u001b[0m\u001b[1;33m,\u001b[0m \u001b[0mfname\u001b[0m\u001b[1;33m)\u001b[0m\u001b[1;33m\u001b[0m\u001b[1;33m\u001b[0m\u001b[0m\n\u001b[1;32m--> 841\u001b[1;33m         \u001b[0mx12sheet\u001b[0m\u001b[1;33m.\u001b[0m\u001b[0mprocess_stream\u001b[0m\u001b[1;33m(\u001b[0m\u001b[0mzflo\u001b[0m\u001b[1;33m,\u001b[0m \u001b[0mheading\u001b[0m\u001b[1;33m)\u001b[0m\u001b[1;33m\u001b[0m\u001b[1;33m\u001b[0m\u001b[0m\n\u001b[0m\u001b[0;32m    842\u001b[0m         \u001b[1;32mdel\u001b[0m \u001b[0mzflo\u001b[0m\u001b[1;33m\u001b[0m\u001b[1;33m\u001b[0m\u001b[0m\n\u001b[0;32m    843\u001b[0m \u001b[1;33m\u001b[0m\u001b[0m\n",
      "\u001b[1;32m~\\Anaconda3\\envs\\geodata20\\lib\\site-packages\\xlrd\\xlsx.py\u001b[0m in \u001b[0;36mown_process_stream\u001b[1;34m(self, stream, heading)\u001b[0m\n\u001b[0;32m    546\u001b[0m         \u001b[0mrow_tag\u001b[0m \u001b[1;33m=\u001b[0m \u001b[0mU_SSML12\u001b[0m \u001b[1;33m+\u001b[0m \u001b[1;34m\"row\"\u001b[0m\u001b[1;33m\u001b[0m\u001b[1;33m\u001b[0m\u001b[0m\n\u001b[0;32m    547\u001b[0m         \u001b[0mself_do_row\u001b[0m \u001b[1;33m=\u001b[0m \u001b[0mself\u001b[0m\u001b[1;33m.\u001b[0m\u001b[0mdo_row\u001b[0m\u001b[1;33m\u001b[0m\u001b[1;33m\u001b[0m\u001b[0m\n\u001b[1;32m--> 548\u001b[1;33m         \u001b[1;32mfor\u001b[0m \u001b[0mevent\u001b[0m\u001b[1;33m,\u001b[0m \u001b[0melem\u001b[0m \u001b[1;32min\u001b[0m \u001b[0mET\u001b[0m\u001b[1;33m.\u001b[0m\u001b[0miterparse\u001b[0m\u001b[1;33m(\u001b[0m\u001b[0mstream\u001b[0m\u001b[1;33m)\u001b[0m\u001b[1;33m:\u001b[0m\u001b[1;33m\u001b[0m\u001b[1;33m\u001b[0m\u001b[0m\n\u001b[0m\u001b[0;32m    549\u001b[0m             \u001b[1;32mif\u001b[0m \u001b[0melem\u001b[0m\u001b[1;33m.\u001b[0m\u001b[0mtag\u001b[0m \u001b[1;33m==\u001b[0m \u001b[0mrow_tag\u001b[0m\u001b[1;33m:\u001b[0m\u001b[1;33m\u001b[0m\u001b[1;33m\u001b[0m\u001b[0m\n\u001b[0;32m    550\u001b[0m                 \u001b[0mself_do_row\u001b[0m\u001b[1;33m(\u001b[0m\u001b[0melem\u001b[0m\u001b[1;33m)\u001b[0m\u001b[1;33m\u001b[0m\u001b[1;33m\u001b[0m\u001b[0m\n",
      "\u001b[1;32m~\\Anaconda3\\envs\\geodata20\\lib\\xml\\etree\\ElementTree.py\u001b[0m in \u001b[0;36miterator\u001b[1;34m()\u001b[0m\n\u001b[0;32m   1222\u001b[0m                 \u001b[1;32myield\u001b[0m \u001b[1;32mfrom\u001b[0m \u001b[0mpullparser\u001b[0m\u001b[1;33m.\u001b[0m\u001b[0mread_events\u001b[0m\u001b[1;33m(\u001b[0m\u001b[1;33m)\u001b[0m\u001b[1;33m\u001b[0m\u001b[1;33m\u001b[0m\u001b[0m\n\u001b[0;32m   1223\u001b[0m                 \u001b[1;31m# load event buffer\u001b[0m\u001b[1;33m\u001b[0m\u001b[1;33m\u001b[0m\u001b[1;33m\u001b[0m\u001b[0m\n\u001b[1;32m-> 1224\u001b[1;33m                 \u001b[0mdata\u001b[0m \u001b[1;33m=\u001b[0m \u001b[0msource\u001b[0m\u001b[1;33m.\u001b[0m\u001b[0mread\u001b[0m\u001b[1;33m(\u001b[0m\u001b[1;36m16\u001b[0m \u001b[1;33m*\u001b[0m \u001b[1;36m1024\u001b[0m\u001b[1;33m)\u001b[0m\u001b[1;33m\u001b[0m\u001b[1;33m\u001b[0m\u001b[0m\n\u001b[0m\u001b[0;32m   1225\u001b[0m                 \u001b[1;32mif\u001b[0m \u001b[1;32mnot\u001b[0m \u001b[0mdata\u001b[0m\u001b[1;33m:\u001b[0m\u001b[1;33m\u001b[0m\u001b[1;33m\u001b[0m\u001b[0m\n\u001b[0;32m   1226\u001b[0m                     \u001b[1;32mbreak\u001b[0m\u001b[1;33m\u001b[0m\u001b[1;33m\u001b[0m\u001b[0m\n",
      "\u001b[1;32m~\\Anaconda3\\envs\\geodata20\\lib\\zipfile.py\u001b[0m in \u001b[0;36mread\u001b[1;34m(self, n)\u001b[0m\n\u001b[0;32m    928\u001b[0m         \u001b[0mself\u001b[0m\u001b[1;33m.\u001b[0m\u001b[0m_offset\u001b[0m \u001b[1;33m=\u001b[0m \u001b[1;36m0\u001b[0m\u001b[1;33m\u001b[0m\u001b[1;33m\u001b[0m\u001b[0m\n\u001b[0;32m    929\u001b[0m         \u001b[1;32mwhile\u001b[0m \u001b[0mn\u001b[0m \u001b[1;33m>\u001b[0m \u001b[1;36m0\u001b[0m \u001b[1;32mand\u001b[0m \u001b[1;32mnot\u001b[0m \u001b[0mself\u001b[0m\u001b[1;33m.\u001b[0m\u001b[0m_eof\u001b[0m\u001b[1;33m:\u001b[0m\u001b[1;33m\u001b[0m\u001b[1;33m\u001b[0m\u001b[0m\n\u001b[1;32m--> 930\u001b[1;33m             \u001b[0mdata\u001b[0m \u001b[1;33m=\u001b[0m \u001b[0mself\u001b[0m\u001b[1;33m.\u001b[0m\u001b[0m_read1\u001b[0m\u001b[1;33m(\u001b[0m\u001b[0mn\u001b[0m\u001b[1;33m)\u001b[0m\u001b[1;33m\u001b[0m\u001b[1;33m\u001b[0m\u001b[0m\n\u001b[0m\u001b[0;32m    931\u001b[0m             \u001b[1;32mif\u001b[0m \u001b[0mn\u001b[0m \u001b[1;33m<\u001b[0m \u001b[0mlen\u001b[0m\u001b[1;33m(\u001b[0m\u001b[0mdata\u001b[0m\u001b[1;33m)\u001b[0m\u001b[1;33m:\u001b[0m\u001b[1;33m\u001b[0m\u001b[1;33m\u001b[0m\u001b[0m\n\u001b[0;32m    932\u001b[0m                 \u001b[0mself\u001b[0m\u001b[1;33m.\u001b[0m\u001b[0m_readbuffer\u001b[0m \u001b[1;33m=\u001b[0m \u001b[0mdata\u001b[0m\u001b[1;33m\u001b[0m\u001b[1;33m\u001b[0m\u001b[0m\n",
      "\u001b[1;32m~\\Anaconda3\\envs\\geodata20\\lib\\zipfile.py\u001b[0m in \u001b[0;36m_read1\u001b[1;34m(self, n)\u001b[0m\n\u001b[0;32m   1004\u001b[0m         \u001b[1;32melif\u001b[0m \u001b[0mself\u001b[0m\u001b[1;33m.\u001b[0m\u001b[0m_compress_type\u001b[0m \u001b[1;33m==\u001b[0m \u001b[0mZIP_DEFLATED\u001b[0m\u001b[1;33m:\u001b[0m\u001b[1;33m\u001b[0m\u001b[1;33m\u001b[0m\u001b[0m\n\u001b[0;32m   1005\u001b[0m             \u001b[0mn\u001b[0m \u001b[1;33m=\u001b[0m \u001b[0mmax\u001b[0m\u001b[1;33m(\u001b[0m\u001b[0mn\u001b[0m\u001b[1;33m,\u001b[0m \u001b[0mself\u001b[0m\u001b[1;33m.\u001b[0m\u001b[0mMIN_READ_SIZE\u001b[0m\u001b[1;33m)\u001b[0m\u001b[1;33m\u001b[0m\u001b[1;33m\u001b[0m\u001b[0m\n\u001b[1;32m-> 1006\u001b[1;33m             \u001b[0mdata\u001b[0m \u001b[1;33m=\u001b[0m \u001b[0mself\u001b[0m\u001b[1;33m.\u001b[0m\u001b[0m_decompressor\u001b[0m\u001b[1;33m.\u001b[0m\u001b[0mdecompress\u001b[0m\u001b[1;33m(\u001b[0m\u001b[0mdata\u001b[0m\u001b[1;33m,\u001b[0m \u001b[0mn\u001b[0m\u001b[1;33m)\u001b[0m\u001b[1;33m\u001b[0m\u001b[1;33m\u001b[0m\u001b[0m\n\u001b[0m\u001b[0;32m   1007\u001b[0m             self._eof = (self._decompressor.eof or\n\u001b[0;32m   1008\u001b[0m                          \u001b[0mself\u001b[0m\u001b[1;33m.\u001b[0m\u001b[0m_compress_left\u001b[0m \u001b[1;33m<=\u001b[0m \u001b[1;36m0\u001b[0m \u001b[1;32mand\u001b[0m\u001b[1;33m\u001b[0m\u001b[1;33m\u001b[0m\u001b[0m\n",
      "\u001b[1;31mKeyboardInterrupt\u001b[0m: "
     ]
    }
   ],
   "source": [
    "conceito = pd.read_excel('../dados/Conceito_Enade_Todas_as_IES_2019_XLXS.xlsx')"
   ]
  },
  {
   "cell_type": "code",
   "execution_count": 3,
   "metadata": {},
   "outputs": [],
   "source": [
    "conceito['UFBA'] = np.where(conceito['Sigla da IES'] == \"UFBA\", True, False)\n",
    "['Pública Federal', 'Pública Estadual','Privada sem fins lucrativos', 'Pública Municipal', 'Privada com fins lucrativos']\n",
    "conceito['PUB'] = np.where( np.logical_or( conceito['Categoria Administrativa'] == 'Privada sem fins lucrativos', conceito['Categoria Administrativa'] == 'Privada com fins lucrativos'), False, True)"
   ]
  },
  {
   "cell_type": "code",
   "execution_count": 4,
   "metadata": {},
   "outputs": [],
   "source": [
    "fltr= conceito['Área de Avaliação']== 'ARQUITETURA E URBANISMO'\n",
    "arq = conceito.loc[fltr]"
   ]
  },
  {
   "cell_type": "code",
   "execution_count": 5,
   "metadata": {},
   "outputs": [
    {
     "output_type": "stream",
     "name": "stdout",
     "text": [
      "<class 'pandas.core.frame.DataFrame'>\nRangeIndex: 8368 entries, 0 to 8367\nData columns (total 24 columns):\n #   Column                            Non-Null Count  Dtype  \n---  ------                            --------------  -----  \n 0   Ano                               8368 non-null   int64  \n 1   Código da Área                    8368 non-null   int64  \n 2   Área de Avaliação                 8368 non-null   object \n 3   Código da IES                     8368 non-null   int64  \n 4   Nome da IES                       8368 non-null   object \n 5   Sigla da IES                      7493 non-null   object \n 6   Organização Acadêmica             8368 non-null   object \n 7   Categoria Administrativa          8368 non-null   object \n 8   Código do Curso                   8368 non-null   int64  \n 9   Modalidade de Ensino              8368 non-null   object \n 10  Código do Município               8368 non-null   int64  \n 11  Município do Curso                8368 non-null   object \n 12  Sigla da UF                       8368 non-null   object \n 13  Nº de Concluintes Inscritos       8368 non-null   int64  \n 14  Nº  de Concluintes Participantes  8368 non-null   int64  \n 15  Nota Bruta - FG                   8188 non-null   float64\n 16  Nota Padronizada - FG             8188 non-null   float64\n 17  Nota Bruta - CE                   8188 non-null   float64\n 18  Nota Padronizada - CE             8188 non-null   float64\n 19  Conceito Enade (Contínuo)         8188 non-null   float64\n 20  Conceito Enade (Faixa)            8367 non-null   object \n 21  Observação                        1 non-null      object \n 22  UFBA                              8368 non-null   bool   \n 23  PUB                               8368 non-null   bool   \ndtypes: bool(2), float64(5), int64(7), object(10)\nmemory usage: 1.4+ MB\n"
     ]
    }
   ],
   "source": [
    "conceito.info()"
   ]
  },
  {
   "cell_type": "code",
   "execution_count": 6,
   "metadata": {},
   "outputs": [],
   "source": [
    "fltr = conceito['Sigla da IES'] == 'UFBA'\n",
    "conc_UFBA = conceito.loc[fltr]"
   ]
  },
  {
   "cell_type": "code",
   "execution_count": 7,
   "metadata": {},
   "outputs": [
    {
     "output_type": "stream",
     "name": "stdout",
     "text": [
      "(400, 25)\n"
     ]
    },
    {
     "output_type": "execute_result",
     "data": {
      "text/plain": [
       "     index   Ano  Código da Área        Área de Avaliação  Código da IES  \\\n",
       "356   1599  2019              21  ARQUITETURA E URBANISMO            578   \n",
       "365   1598  2019              21  ARQUITETURA E URBANISMO            578   \n",
       "\n",
       "                       Nome da IES Sigla da IES Organização Acadêmica  \\\n",
       "356  UNIVERSIDADE FEDERAL DA BAHIA         UFBA          Universidade   \n",
       "365  UNIVERSIDADE FEDERAL DA BAHIA         UFBA          Universidade   \n",
       "\n",
       "    Categoria Administrativa  Código do Curso  ...  \\\n",
       "356          Pública Federal           117044  ...   \n",
       "365          Pública Federal            13266  ...   \n",
       "\n",
       "    Nº  de Concluintes Participantes  Nota Bruta - FG Nota Padronizada - FG  \\\n",
       "356                               54          52.3685                3.9361   \n",
       "365                              147          56.3361                4.5631   \n",
       "\n",
       "    Nota Bruta - CE  Nota Padronizada - CE  Conceito Enade (Contínuo)  \\\n",
       "356         65.4167                 3.5228                     3.6262   \n",
       "365         65.6735                 3.5592                     3.8102   \n",
       "\n",
       "     Conceito Enade (Faixa)  Observação  UFBA   PUB  \n",
       "356                       4         NaN  True  True  \n",
       "365                       4         NaN  True  True  \n",
       "\n",
       "[2 rows x 25 columns]"
      ],
      "text/html": "<div>\n<style scoped>\n    .dataframe tbody tr th:only-of-type {\n        vertical-align: middle;\n    }\n\n    .dataframe tbody tr th {\n        vertical-align: top;\n    }\n\n    .dataframe thead th {\n        text-align: right;\n    }\n</style>\n<table border=\"1\" class=\"dataframe\">\n  <thead>\n    <tr style=\"text-align: right;\">\n      <th></th>\n      <th>index</th>\n      <th>Ano</th>\n      <th>Código da Área</th>\n      <th>Área de Avaliação</th>\n      <th>Código da IES</th>\n      <th>Nome da IES</th>\n      <th>Sigla da IES</th>\n      <th>Organização Acadêmica</th>\n      <th>Categoria Administrativa</th>\n      <th>Código do Curso</th>\n      <th>...</th>\n      <th>Nº  de Concluintes Participantes</th>\n      <th>Nota Bruta - FG</th>\n      <th>Nota Padronizada - FG</th>\n      <th>Nota Bruta - CE</th>\n      <th>Nota Padronizada - CE</th>\n      <th>Conceito Enade (Contínuo)</th>\n      <th>Conceito Enade (Faixa)</th>\n      <th>Observação</th>\n      <th>UFBA</th>\n      <th>PUB</th>\n    </tr>\n  </thead>\n  <tbody>\n    <tr>\n      <th>356</th>\n      <td>1599</td>\n      <td>2019</td>\n      <td>21</td>\n      <td>ARQUITETURA E URBANISMO</td>\n      <td>578</td>\n      <td>UNIVERSIDADE FEDERAL DA BAHIA</td>\n      <td>UFBA</td>\n      <td>Universidade</td>\n      <td>Pública Federal</td>\n      <td>117044</td>\n      <td>...</td>\n      <td>54</td>\n      <td>52.3685</td>\n      <td>3.9361</td>\n      <td>65.4167</td>\n      <td>3.5228</td>\n      <td>3.6262</td>\n      <td>4</td>\n      <td>NaN</td>\n      <td>True</td>\n      <td>True</td>\n    </tr>\n    <tr>\n      <th>365</th>\n      <td>1598</td>\n      <td>2019</td>\n      <td>21</td>\n      <td>ARQUITETURA E URBANISMO</td>\n      <td>578</td>\n      <td>UNIVERSIDADE FEDERAL DA BAHIA</td>\n      <td>UFBA</td>\n      <td>Universidade</td>\n      <td>Pública Federal</td>\n      <td>13266</td>\n      <td>...</td>\n      <td>147</td>\n      <td>56.3361</td>\n      <td>4.5631</td>\n      <td>65.6735</td>\n      <td>3.5592</td>\n      <td>3.8102</td>\n      <td>4</td>\n      <td>NaN</td>\n      <td>True</td>\n      <td>True</td>\n    </tr>\n  </tbody>\n</table>\n<p>2 rows × 25 columns</p>\n</div>"
     },
     "metadata": {},
     "execution_count": 7
    }
   ],
   "source": [
    "arq_ord = arq.sort_values(by=['Conceito Enade (Contínuo)']).reset_index()\n",
    "print(arq_ord.shape)\n",
    "ufba_pos = arq_ord['Sigla da IES'] == 'UFBA'\n",
    "arq_ord.loc[ufba_pos]"
   ]
  },
  {
   "cell_type": "code",
   "execution_count": 8,
   "metadata": {},
   "outputs": [
    {
     "output_type": "stream",
     "name": "stdout",
     "text": [
      "<class 'pandas.core.frame.DataFrame'>\nRangeIndex: 6 entries, 0 to 5\nData columns (total 24 columns):\n #   Column                            Non-Null Count  Dtype \n---  ------                            --------------  ----- \n 0   Conceito Enade (Faixa)            6 non-null      object\n 1   Ano                               6 non-null      int64 \n 2   Código da Área                    6 non-null      int64 \n 3   Área de Avaliação                 6 non-null      int64 \n 4   Código da IES                     6 non-null      int64 \n 5   Nome da IES                       6 non-null      int64 \n 6   Sigla da IES                      6 non-null      int64 \n 7   Organização Acadêmica             6 non-null      int64 \n 8   Categoria Administrativa          6 non-null      int64 \n 9   Código do Curso                   6 non-null      int64 \n 10  Modalidade de Ensino              6 non-null      int64 \n 11  Código do Município               6 non-null      int64 \n 12  Município do Curso                6 non-null      int64 \n 13  Sigla da UF                       6 non-null      int64 \n 14  Nº de Concluintes Inscritos       6 non-null      int64 \n 15  Nº  de Concluintes Participantes  6 non-null      int64 \n 16  Nota Bruta - FG                   6 non-null      int64 \n 17  Nota Padronizada - FG             6 non-null      int64 \n 18  Nota Bruta - CE                   6 non-null      int64 \n 19  Nota Padronizada - CE             6 non-null      int64 \n 20  Conceito Enade (Contínuo)         6 non-null      int64 \n 21  Observação                        6 non-null      int64 \n 22  UFBA                              6 non-null      int64 \n 23  PUB                               6 non-null      int64 \ndtypes: int64(23), object(1)\nmemory usage: 1.2+ KB\n"
     ]
    }
   ],
   "source": [
    "arq_faixa = arq.groupby(['Conceito Enade (Faixa)']).count().reset_index()\n",
    "\n",
    "arq_faixa.info()"
   ]
  },
  {
   "cell_type": "code",
   "execution_count": 9,
   "metadata": {},
   "outputs": [
    {
     "output_type": "execute_result",
     "data": {
      "text/plain": [
       "'BarBrCondceitoFaixa.html'"
      ]
     },
     "metadata": {},
     "execution_count": 9
    }
   ],
   "source": [
    "data = [go.Bar(\n",
    "    x=arq_faixa['Conceito Enade (Faixa)'],\n",
    "    y=arq_faixa['Ano'],\n",
    "    marker=dict(color=arq_faixa['Ano'],  colorscale ='tealgrn')\n",
    ")]\n",
    "layout = go.Layout(\n",
    "    width=750, height=400,\n",
    "    title='Número de cursos de Arquitetura e Urbanismo do Brasil por conceito (Faixa)',\n",
    "    yaxis=dict(\n",
    "        title_text=\"Número de cursos\"\n",
    "    ),\n",
    "     xaxis=dict(\n",
    "        title_text=\"Conceito (Faixa)\"\n",
    "    ),\n",
    "     hovermode = 'x'\n",
    ")\n",
    "fig = go.Figure(data=data, layout=layout)\n",
    "pyo.plot(fig, filename='BarBrCondceitoFaixa.html')"
   ]
  },
  {
   "cell_type": "code",
   "execution_count": 10,
   "metadata": {},
   "outputs": [
    {
     "output_type": "execute_result",
     "data": {
      "text/plain": [
       "'PieBrCondceitoFaixa.html'"
      ]
     },
     "metadata": {},
     "execution_count": 10
    }
   ],
   "source": [
    "arq_faixa.sort_values(by='Conceito Enade (Faixa)', inplace =True)\n",
    "\n",
    "colors = ['chocolate', 'coral', 'cornflowerblue',\n",
    "                'goldenrod', 'crimson', 'chartreuse']\n",
    "\n",
    "data = go.Pie( values=arq_faixa['Ano'], labels = arq_faixa['Conceito Enade (Faixa)'], marker=dict( colors=arq_faixa['Ano'])\n",
    ")\n",
    "\n",
    "layout={ 'width' : 600, 'height' :500,\n",
    "        'showlegend': False,\n",
    "        'title': \"Cursos de Arquitetura e Urbanismo do Brasil por conceito (Faixa)\"\n",
    "        }\n",
    "\n",
    "fig = go.Figure(data=data, layout=layout)\n",
    "pyo.plot(fig, filename='PieBrCondceitoFaixa.html')"
   ]
  },
  {
   "cell_type": "code",
   "execution_count": 11,
   "metadata": {},
   "outputs": [
    {
     "output_type": "execute_result",
     "data": {
      "text/plain": [
       "  SIGLA    ESTADO      CAPITAL  REGIAO\n",
       "0    AC      ACRE   RIO BRANCO   NORTE\n",
       "1    AM  AMAZONAS       MANAUS   NORTE\n",
       "2    AP     AMAPÁ       MACAPÁ  NORTE \n",
       "3    PA      PARÁ        BELÉM   NORTE\n",
       "4    RO  RONDÔNIA  PORTO VELHO   NORTE"
      ],
      "text/html": "<div>\n<style scoped>\n    .dataframe tbody tr th:only-of-type {\n        vertical-align: middle;\n    }\n\n    .dataframe tbody tr th {\n        vertical-align: top;\n    }\n\n    .dataframe thead th {\n        text-align: right;\n    }\n</style>\n<table border=\"1\" class=\"dataframe\">\n  <thead>\n    <tr style=\"text-align: right;\">\n      <th></th>\n      <th>SIGLA</th>\n      <th>ESTADO</th>\n      <th>CAPITAL</th>\n      <th>REGIAO</th>\n    </tr>\n  </thead>\n  <tbody>\n    <tr>\n      <th>0</th>\n      <td>AC</td>\n      <td>ACRE</td>\n      <td>RIO BRANCO</td>\n      <td>NORTE</td>\n    </tr>\n    <tr>\n      <th>1</th>\n      <td>AM</td>\n      <td>AMAZONAS</td>\n      <td>MANAUS</td>\n      <td>NORTE</td>\n    </tr>\n    <tr>\n      <th>2</th>\n      <td>AP</td>\n      <td>AMAPÁ</td>\n      <td>MACAPÁ</td>\n      <td>NORTE</td>\n    </tr>\n    <tr>\n      <th>3</th>\n      <td>PA</td>\n      <td>PARÁ</td>\n      <td>BELÉM</td>\n      <td>NORTE</td>\n    </tr>\n    <tr>\n      <th>4</th>\n      <td>RO</td>\n      <td>RONDÔNIA</td>\n      <td>PORTO VELHO</td>\n      <td>NORTE</td>\n    </tr>\n  </tbody>\n</table>\n</div>"
     },
     "metadata": {},
     "execution_count": 11
    }
   ],
   "source": [
    "uf = pd.read_csv('../dados/brasil.csv', header = 0)\n",
    "uf.head()"
   ]
  },
  {
   "cell_type": "code",
   "execution_count": 12,
   "metadata": {},
   "outputs": [],
   "source": [
    "fltr = uf['REGIAO'] == 'NORDESTE'\n",
    "ne = uf[fltr]"
   ]
  },
  {
   "cell_type": "code",
   "execution_count": 13,
   "metadata": {},
   "outputs": [],
   "source": [
    "listNe = ne['SIGLA'].unique()"
   ]
  },
  {
   "cell_type": "code",
   "execution_count": 14,
   "metadata": {},
   "outputs": [
    {
     "output_type": "execute_result",
     "data": {
      "text/plain": [
       "array(['AC', 'AM', 'PA', 'RO', 'RR', 'TO', 'AL', 'BA', 'CE', 'MA', 'PB',\n",
       "       'PE', 'PI', 'RN', 'SE'], dtype=object)"
      ]
     },
     "metadata": {},
     "execution_count": 14
    }
   ],
   "source": [
    "fltr = uf['REGIAO'].isin(['NORDESTE', 'NORTE'])\n",
    "nne = uf[fltr]\n",
    "\n",
    "listNNe = nne['SIGLA'].unique()\n",
    "listNNe"
   ]
  },
  {
   "cell_type": "code",
   "execution_count": 15,
   "metadata": {},
   "outputs": [
    {
     "output_type": "execute_result",
     "data": {
      "text/plain": [
       "       Ano  Código da Área        Área de Avaliação  Código da IES  \\\n",
       "1418  2019              21  ARQUITETURA E URBANISMO              3   \n",
       "1420  2019              21  ARQUITETURA E URBANISMO              5   \n",
       "1425  2019              21  ARQUITETURA E URBANISMO             11   \n",
       "1519  2019              21  ARQUITETURA E URBANISMO            352   \n",
       "1526  2019              21  ARQUITETURA E URBANISMO            385   \n",
       "\n",
       "                              Nome da IES Sigla da IES Organização Acadêmica  \\\n",
       "1418      UNIVERSIDADE FEDERAL DE SERGIPE          UFS          Universidade   \n",
       "1420        UNIVERSIDADE FEDERAL DO PIAUÍ         UFPI          Universidade   \n",
       "1425  UNIVERSIDADE CATÓLICA DE PERNAMBUCO       UNICAP          Universidade   \n",
       "1519  CENTRO UNIVERSITÁRIO DE JOÃO PESSOA        UNIPÊ  Centro Universitário   \n",
       "1526                UNIVERSIDADE SALVADOR      UNIFACS          Universidade   \n",
       "\n",
       "         Categoria Administrativa  Código do Curso Modalidade de Ensino  ...  \\\n",
       "1418              Pública Federal            99444  Educação Presencial  ...   \n",
       "1420              Pública Federal              517  Educação Presencial  ...   \n",
       "1425  Privada sem fins lucrativos            52971  Educação Presencial  ...   \n",
       "1519  Privada com fins lucrativos            38551  Educação Presencial  ...   \n",
       "1526  Privada com fins lucrativos            20575  Educação Presencial  ...   \n",
       "\n",
       "      Nº  de Concluintes Participantes Nota Bruta - FG Nota Padronizada - FG  \\\n",
       "1418                                54         53.2852                4.0810   \n",
       "1420                                76         51.8487                3.8540   \n",
       "1425                                97         43.4278                2.5232   \n",
       "1519                               204         43.2373                2.4931   \n",
       "1526                               440         44.4668                2.6874   \n",
       "\n",
       "      Nota Bruta - CE  Nota Padronizada - CE  Conceito Enade (Contínuo)  \\\n",
       "1418          64.6815                 3.4187                     3.5843   \n",
       "1420          69.6750                 4.1257                     4.0578   \n",
       "1425          59.5474                 2.6919                     2.6497   \n",
       "1519          57.8740                 2.4549                     2.4645   \n",
       "1526          56.4891                 2.2589                     2.3660   \n",
       "\n",
       "      Conceito Enade (Faixa)  Observação   UFBA    PUB  \n",
       "1418                       4         NaN  False   True  \n",
       "1420                       5         NaN  False   True  \n",
       "1425                       3         NaN  False  False  \n",
       "1519                       3         NaN  False  False  \n",
       "1526                       3         NaN  False  False  \n",
       "\n",
       "[5 rows x 24 columns]"
      ],
      "text/html": "<div>\n<style scoped>\n    .dataframe tbody tr th:only-of-type {\n        vertical-align: middle;\n    }\n\n    .dataframe tbody tr th {\n        vertical-align: top;\n    }\n\n    .dataframe thead th {\n        text-align: right;\n    }\n</style>\n<table border=\"1\" class=\"dataframe\">\n  <thead>\n    <tr style=\"text-align: right;\">\n      <th></th>\n      <th>Ano</th>\n      <th>Código da Área</th>\n      <th>Área de Avaliação</th>\n      <th>Código da IES</th>\n      <th>Nome da IES</th>\n      <th>Sigla da IES</th>\n      <th>Organização Acadêmica</th>\n      <th>Categoria Administrativa</th>\n      <th>Código do Curso</th>\n      <th>Modalidade de Ensino</th>\n      <th>...</th>\n      <th>Nº  de Concluintes Participantes</th>\n      <th>Nota Bruta - FG</th>\n      <th>Nota Padronizada - FG</th>\n      <th>Nota Bruta - CE</th>\n      <th>Nota Padronizada - CE</th>\n      <th>Conceito Enade (Contínuo)</th>\n      <th>Conceito Enade (Faixa)</th>\n      <th>Observação</th>\n      <th>UFBA</th>\n      <th>PUB</th>\n    </tr>\n  </thead>\n  <tbody>\n    <tr>\n      <th>1418</th>\n      <td>2019</td>\n      <td>21</td>\n      <td>ARQUITETURA E URBANISMO</td>\n      <td>3</td>\n      <td>UNIVERSIDADE FEDERAL DE SERGIPE</td>\n      <td>UFS</td>\n      <td>Universidade</td>\n      <td>Pública Federal</td>\n      <td>99444</td>\n      <td>Educação Presencial</td>\n      <td>...</td>\n      <td>54</td>\n      <td>53.2852</td>\n      <td>4.0810</td>\n      <td>64.6815</td>\n      <td>3.4187</td>\n      <td>3.5843</td>\n      <td>4</td>\n      <td>NaN</td>\n      <td>False</td>\n      <td>True</td>\n    </tr>\n    <tr>\n      <th>1420</th>\n      <td>2019</td>\n      <td>21</td>\n      <td>ARQUITETURA E URBANISMO</td>\n      <td>5</td>\n      <td>UNIVERSIDADE FEDERAL DO PIAUÍ</td>\n      <td>UFPI</td>\n      <td>Universidade</td>\n      <td>Pública Federal</td>\n      <td>517</td>\n      <td>Educação Presencial</td>\n      <td>...</td>\n      <td>76</td>\n      <td>51.8487</td>\n      <td>3.8540</td>\n      <td>69.6750</td>\n      <td>4.1257</td>\n      <td>4.0578</td>\n      <td>5</td>\n      <td>NaN</td>\n      <td>False</td>\n      <td>True</td>\n    </tr>\n    <tr>\n      <th>1425</th>\n      <td>2019</td>\n      <td>21</td>\n      <td>ARQUITETURA E URBANISMO</td>\n      <td>11</td>\n      <td>UNIVERSIDADE CATÓLICA DE PERNAMBUCO</td>\n      <td>UNICAP</td>\n      <td>Universidade</td>\n      <td>Privada sem fins lucrativos</td>\n      <td>52971</td>\n      <td>Educação Presencial</td>\n      <td>...</td>\n      <td>97</td>\n      <td>43.4278</td>\n      <td>2.5232</td>\n      <td>59.5474</td>\n      <td>2.6919</td>\n      <td>2.6497</td>\n      <td>3</td>\n      <td>NaN</td>\n      <td>False</td>\n      <td>False</td>\n    </tr>\n    <tr>\n      <th>1519</th>\n      <td>2019</td>\n      <td>21</td>\n      <td>ARQUITETURA E URBANISMO</td>\n      <td>352</td>\n      <td>CENTRO UNIVERSITÁRIO DE JOÃO PESSOA</td>\n      <td>UNIPÊ</td>\n      <td>Centro Universitário</td>\n      <td>Privada com fins lucrativos</td>\n      <td>38551</td>\n      <td>Educação Presencial</td>\n      <td>...</td>\n      <td>204</td>\n      <td>43.2373</td>\n      <td>2.4931</td>\n      <td>57.8740</td>\n      <td>2.4549</td>\n      <td>2.4645</td>\n      <td>3</td>\n      <td>NaN</td>\n      <td>False</td>\n      <td>False</td>\n    </tr>\n    <tr>\n      <th>1526</th>\n      <td>2019</td>\n      <td>21</td>\n      <td>ARQUITETURA E URBANISMO</td>\n      <td>385</td>\n      <td>UNIVERSIDADE SALVADOR</td>\n      <td>UNIFACS</td>\n      <td>Universidade</td>\n      <td>Privada com fins lucrativos</td>\n      <td>20575</td>\n      <td>Educação Presencial</td>\n      <td>...</td>\n      <td>440</td>\n      <td>44.4668</td>\n      <td>2.6874</td>\n      <td>56.4891</td>\n      <td>2.2589</td>\n      <td>2.3660</td>\n      <td>3</td>\n      <td>NaN</td>\n      <td>False</td>\n      <td>False</td>\n    </tr>\n  </tbody>\n</table>\n<p>5 rows × 24 columns</p>\n</div>"
     },
     "metadata": {},
     "execution_count": 15
    }
   ],
   "source": [
    "fltr = arq['Sigla da UF'].isin(listNe)\n",
    "arq_ne = arq.loc[fltr]\n",
    "arq_ne.head()"
   ]
  },
  {
   "cell_type": "code",
   "execution_count": 16,
   "metadata": {},
   "outputs": [
    {
     "output_type": "stream",
     "name": "stdout",
     "text": [
      "<class 'pandas.core.frame.DataFrame'>\nRangeIndex: 5 entries, 0 to 4\nData columns (total 24 columns):\n #   Column                            Non-Null Count  Dtype \n---  ------                            --------------  ----- \n 0   Conceito Enade (Faixa)            5 non-null      object\n 1   Ano                               5 non-null      int64 \n 2   Código da Área                    5 non-null      int64 \n 3   Área de Avaliação                 5 non-null      int64 \n 4   Código da IES                     5 non-null      int64 \n 5   Nome da IES                       5 non-null      int64 \n 6   Sigla da IES                      5 non-null      int64 \n 7   Organização Acadêmica             5 non-null      int64 \n 8   Categoria Administrativa          5 non-null      int64 \n 9   Código do Curso                   5 non-null      int64 \n 10  Modalidade de Ensino              5 non-null      int64 \n 11  Código do Município               5 non-null      int64 \n 12  Município do Curso                5 non-null      int64 \n 13  Sigla da UF                       5 non-null      int64 \n 14  Nº de Concluintes Inscritos       5 non-null      int64 \n 15  Nº  de Concluintes Participantes  5 non-null      int64 \n 16  Nota Bruta - FG                   5 non-null      int64 \n 17  Nota Padronizada - FG             5 non-null      int64 \n 18  Nota Bruta - CE                   5 non-null      int64 \n 19  Nota Padronizada - CE             5 non-null      int64 \n 20  Conceito Enade (Contínuo)         5 non-null      int64 \n 21  Observação                        5 non-null      int64 \n 22  UFBA                              5 non-null      int64 \n 23  PUB                               5 non-null      int64 \ndtypes: int64(23), object(1)\nmemory usage: 1.1+ KB\n"
     ]
    }
   ],
   "source": [
    "arq_faixa_ne = arq_ne.groupby(['Conceito Enade (Faixa)']).count().reset_index()\n",
    "\n",
    "arq_faixa_ne.info()"
   ]
  },
  {
   "cell_type": "code",
   "execution_count": 17,
   "metadata": {},
   "outputs": [
    {
     "output_type": "execute_result",
     "data": {
      "text/plain": [
       "'BarNeCondceitoFaixa.html'"
      ]
     },
     "metadata": {},
     "execution_count": 17
    }
   ],
   "source": [
    "data = [go.Bar(\n",
    "    x=arq_faixa_ne['Conceito Enade (Faixa)'],\n",
    "    y=arq_faixa_ne['Ano'],\n",
    "    marker=dict(color=arq_faixa_ne['Ano'],  colorscale ='peach')\n",
    ")]\n",
    "layout = go.Layout(\n",
    "    width=750, height=400,\n",
    "    title='Número de cursos de Arquitetura e Urbanismo do Nordeste por conceito (Faixa)',\n",
    "    yaxis=dict(\n",
    "        title_text=\"Número de cursos\"\n",
    "    ),\n",
    "     xaxis=dict(\n",
    "        title_text=\"Conceito (Faixa)\"\n",
    "    ),\n",
    "     hovermode = 'x'\n",
    ")\n",
    "fig = go.Figure(data=data, layout=layout)\n",
    "pyo.plot(fig, filename='BarNeCondceitoFaixa.html')"
   ]
  },
  {
   "cell_type": "code",
   "execution_count": 18,
   "metadata": {},
   "outputs": [
    {
     "output_type": "execute_result",
     "data": {
      "text/plain": [
       "'PieNeCondceitoFaixa.html'"
      ]
     },
     "metadata": {},
     "execution_count": 18
    }
   ],
   "source": [
    "arq_faixa_ne  = arq_faixa_ne.sort_values(by='Conceito Enade (Faixa)')\n",
    "\n",
    "colors = ['chocolate', 'coral', 'cornflowerblue',\n",
    "                'goldenrod', 'crimson', 'chartreuse']\n",
    "\n",
    "data = go.Pie( values=arq_faixa_ne['Ano'], labels = arq_faixa_ne['Conceito Enade (Faixa)'], marker=dict( colors=colors)\n",
    ")\n",
    "\n",
    "layout={ 'width' : 650, 'height' :600,\n",
    "        'showlegend': True,\n",
    "        'title': \"Cursos de Arquitetura e Urbanismo do Nodeste por conceito (Faixa)\"\n",
    "        \n",
    "        }\n",
    "\n",
    "fig = go.Figure(data=data, layout=layout)\n",
    "pyo.plot(fig, filename='PieNeCondceitoFaixa.html')"
   ]
  },
  {
   "cell_type": "code",
   "execution_count": 19,
   "metadata": {},
   "outputs": [],
   "source": [
    "fltr = arq['Sigla da UF'].isin(listNNe)\n",
    "arq_nne = arq.loc[fltr]\n",
    "arq_faixa_nne = arq_nne.groupby(['Conceito Enade (Faixa)']).count().reset_index()"
   ]
  },
  {
   "cell_type": "code",
   "execution_count": 20,
   "metadata": {},
   "outputs": [
    {
     "output_type": "execute_result",
     "data": {
      "text/plain": [
       "'BarNNeCondceitoFaixa.html'"
      ]
     },
     "metadata": {},
     "execution_count": 20
    }
   ],
   "source": [
    "data = [go.Bar(\n",
    "    x=arq_faixa_nne['Conceito Enade (Faixa)'],\n",
    "    y=arq_faixa_nne['Ano'],\n",
    "    marker=dict(color=arq_faixa_nne['Ano'],  colorscale ='portland')\n",
    ")]\n",
    "layout = go.Layout(\n",
    "    width=800, height=400,\n",
    "    title='Número de cursos de Arquitetura e Urbanismo do Norte-Nordeste por conceito (Faixa)',\n",
    "    yaxis=dict(\n",
    "        title_text=\"Número de cursos\"\n",
    "    ),\n",
    "     xaxis=dict(\n",
    "        title_text=\"Conceito (Faixa)\"\n",
    "    ),\n",
    "     hovermode = 'x'\n",
    ")\n",
    "fig = go.Figure(data=data, layout=layout)\n",
    "pyo.plot(fig, filename='BarNNeCondceitoFaixa.html')"
   ]
  },
  {
   "cell_type": "code",
   "execution_count": 21,
   "metadata": {},
   "outputs": [
    {
     "output_type": "execute_result",
     "data": {
      "text/plain": [
       "'PieNNeCondceitoFaixa.html'"
      ]
     },
     "metadata": {},
     "execution_count": 21
    }
   ],
   "source": [
    "arq_faixa_nne  = arq_faixa_nne.sort_values(by='Conceito Enade (Faixa)')\n",
    "\n",
    "colors = ['chocolate', 'coral', 'cornflowerblue',\n",
    "                'goldenrod', 'crimson', 'chartreuse']\n",
    "\n",
    "data = go.Pie( values=arq_faixa_nne['Ano'], labels = arq_faixa_nne['Conceito Enade (Faixa)'], marker=dict( colors=colors)\n",
    ")\n",
    "\n",
    "layout={ 'width' : 650, 'height' :600,\n",
    "        'showlegend': True,\n",
    "        'title': \"Cursos de Arquitetura e Urbanismo do Nodeste por conceito (Faixa)\"\n",
    "        \n",
    "        }\n",
    "\n",
    "fig = go.Figure(data=data, layout=layout)\n",
    "pyo.plot(fig, filename='PieNNeCondceitoFaixa.html')"
   ]
  },
  {
   "cell_type": "code",
   "execution_count": 22,
   "metadata": {},
   "outputs": [],
   "source": [
    "fltr = arq['Sigla da UF'] == \"BA\"\n",
    "arq_BA = arq.loc[fltr]\n",
    "arq_faixa_BA = arq_BA.groupby(['Conceito Enade (Faixa)']).count().reset_index()"
   ]
  },
  {
   "cell_type": "code",
   "execution_count": 23,
   "metadata": {},
   "outputs": [
    {
     "output_type": "execute_result",
     "data": {
      "text/plain": [
       "'BarBACondceitoFaixa.html'"
      ]
     },
     "metadata": {},
     "execution_count": 23
    }
   ],
   "source": [
    "data = [go.Bar(\n",
    "    x=arq_faixa_BA['Conceito Enade (Faixa)'],\n",
    "    y=arq_faixa_BA['Ano'],\n",
    "    marker=dict(color=arq_faixa_BA['Ano'],  colorscale ='cividis')\n",
    ")]\n",
    "layout = go.Layout(\n",
    "    width=800, height=400,\n",
    "    title='Número de cursos de Arquitetura e Urbanismo da Bahia por conceito (Faixa)',\n",
    "    yaxis=dict(\n",
    "        title_text=\"Número de cursos\"\n",
    "    ),\n",
    "     xaxis=dict(\n",
    "        title_text=\"Conceito (Faixa)\"\n",
    "    ),\n",
    "     hovermode = 'x'\n",
    ")\n",
    "fig = go.Figure(data=data, layout=layout)\n",
    "pyo.plot(fig, filename='BarBACondceitoFaixa.html')"
   ]
  },
  {
   "cell_type": "code",
   "execution_count": 24,
   "metadata": {},
   "outputs": [
    {
     "output_type": "execute_result",
     "data": {
      "text/plain": [
       "'PieBACondceitoFaixa.html'"
      ]
     },
     "metadata": {},
     "execution_count": 24
    }
   ],
   "source": [
    "arq_faixa_BA  = arq_faixa_BA.sort_values(by='Conceito Enade (Faixa)')\n",
    "\n",
    "colors = ['chocolate', 'coral', 'cornflowerblue',\n",
    "                'goldenrod', 'crimson', 'chartreuse']\n",
    "\n",
    "data = go.Pie( values=arq_faixa_BA['Ano'], labels = arq_faixa_BA['Conceito Enade (Faixa)'], marker=dict( colors=colors)\n",
    ")\n",
    "\n",
    "layout={ 'width' : 650, 'height' :600,\n",
    "        'showlegend': True,\n",
    "        'title': \"Cursos de Arquitetura e Urbanismo da Bahia por conceito (Faixa)\"\n",
    "        \n",
    "        }\n",
    "\n",
    "fig = go.Figure(data=data, layout=layout)\n",
    "pyo.plot(fig, filename='PieBACondceitoFaixa.html')"
   ]
  },
  {
   "cell_type": "code",
   "execution_count": 53,
   "metadata": {},
   "outputs": [
    {
     "output_type": "execute_result",
     "data": {
      "text/plain": [
       "'Continuo_disp_br.html'"
      ]
     },
     "metadata": {},
     "execution_count": 53
    }
   ],
   "source": [
    "arq['Conceito Enade (Contínuo)'] = arq['Conceito Enade (Contínuo)'].fillna(0.0)\n",
    "data = [go.Scatter( x = arq['Nome da IES'], y = arq['Conceito Enade (Contínuo)'], mode='markers',\n",
    "\n",
    "\n",
    "hovertemplate =\n",
    "    '<b>IES</b>: %{x}'+\n",
    "    '<br><b>Coneito (contínuo)</b>: %{y:.4f}<br>',\n",
    "\n",
    "marker=dict(\n",
    "        symbol = np.where( arq['PUB'] , 0 , 2),\n",
    "        color=arq['Conceito Enade (Contínuo)'] , colorscale ='portland',\n",
    "        size= arq['Conceito Enade (Contínuo)'] *.5 + 10,\n",
    "        line = dict( \n",
    "                width = np.where( arq['UFBA'] , 3, 1), color = np.where( arq['UFBA'] , 'black', 'darkgray'))\n",
    "        )\n",
    "\n",
    "\n",
    ")]\n",
    "\n",
    "layout={ 'width' : 1200, 'height' :600,\n",
    "        'showlegend': False,\n",
    "        'title': \"Diagrama de dispersão: Cursos de Arquitetura e Urbanismo Do Brasil por conceito (continuo)\",\n",
    "    \n",
    "        'xaxis': { 'visible': False}\n",
    "        }\n",
    "\n",
    "fig = go.Figure(data=data, layout = layout)\n",
    "pyo.plot(fig, filename='Continuo_disp_br.html')"
   ]
  },
  {
   "cell_type": "code",
   "execution_count": null,
   "metadata": {},
   "outputs": [],
   "source": []
  }
 ]
}