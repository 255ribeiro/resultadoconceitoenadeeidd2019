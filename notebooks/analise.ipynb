{
 "metadata": {
  "language_info": {
   "codemirror_mode": {
    "name": "ipython",
    "version": 3
   },
   "file_extension": ".py",
   "mimetype": "text/x-python",
   "name": "python",
   "nbconvert_exporter": "python",
   "pygments_lexer": "ipython3",
   "version": "3.7.7-final"
  },
  "orig_nbformat": 2,
  "kernelspec": {
   "name": "Python 3.7.7 64-bit ('geodata20': conda)",
   "display_name": "Python 3.7.7 64-bit ('geodata20': conda)",
   "metadata": {
    "interpreter": {
     "hash": "bd04f98157870cf5e13f46115ec3cad89c473388f13b7e80b8cdb055f9535315"
    }
   }
  }
 },
 "nbformat": 4,
 "nbformat_minor": 2,
 "cells": [
  {
   "cell_type": "code",
   "execution_count": 33,
   "metadata": {},
   "outputs": [],
   "source": [
    "import pandas as pd \n",
    "import numpy as np\n",
    "import geopandas as gpd\n",
    "import plotly.offline as pyo \n",
    "import plotly.graph_objs as go\n",
    "import plotly.figure_factory as ff\n",
    "from plotly import tools\n",
    "pd.set_option('display.max_rows', 100)"
   ]
  },
  {
   "cell_type": "code",
   "execution_count": 34,
   "metadata": {},
   "outputs": [],
   "source": [
    "conceito = pd.read_excel('../dados/Conceito_Enade_Todas_as_IES_2019_XLXS.xlsx')"
   ]
  },
  {
   "cell_type": "code",
   "execution_count": 35,
   "metadata": {},
   "outputs": [
    {
     "output_type": "execute_result",
     "data": {
      "text/plain": [
       "    Ano  Código da Área     Área de Avaliação  Código da IES  \\\n",
       "0  2019               5  MEDICINA VETERINÁRIA              1   \n",
       "1  2019               5  MEDICINA VETERINÁRIA              1   \n",
       "2  2019               5  MEDICINA VETERINÁRIA              2   \n",
       "3  2019               5  MEDICINA VETERINÁRIA              3   \n",
       "4  2019               5  MEDICINA VETERINÁRIA              3   \n",
       "\n",
       "                           Nome da IES Sigla da IES Organização Acadêmica  \\\n",
       "0  UNIVERSIDADE FEDERAL DE MATO GROSSO         UFMT          Universidade   \n",
       "1  UNIVERSIDADE FEDERAL DE MATO GROSSO         UFMT          Universidade   \n",
       "2             UNIVERSIDADE DE BRASÍLIA          UNB          Universidade   \n",
       "3      UNIVERSIDADE FEDERAL DE SERGIPE          UFS          Universidade   \n",
       "4      UNIVERSIDADE FEDERAL DE SERGIPE          UFS          Universidade   \n",
       "\n",
       "  Categoria Administrativa  Código do Curso Modalidade de Ensino  ...  \\\n",
       "0          Pública Federal               37  Educação Presencial  ...   \n",
       "1          Pública Federal           100763  Educação Presencial  ...   \n",
       "2          Pública Federal            18031  Educação Presencial  ...   \n",
       "3          Pública Federal          1108067  Educação Presencial  ...   \n",
       "4          Pública Federal          1321453  Educação Presencial  ...   \n",
       "\n",
       "   Sigla da UF Nº de Concluintes Inscritos Nº  de Concluintes Participantes  \\\n",
       "0           MT                          23                               20   \n",
       "1           MT                          46                               39   \n",
       "2           DF                         129                              119   \n",
       "3           SE                          47                               39   \n",
       "4           SE                          28                               25   \n",
       "\n",
       "   Nota Bruta - FG  Nota Padronizada - FG  Nota Bruta - CE  \\\n",
       "0          42.8150                 2.7573          57.8000   \n",
       "1          42.1128                 2.6390          55.7282   \n",
       "2          50.6050                 4.0697          59.0025   \n",
       "3          45.7744                 3.2559          56.9667   \n",
       "4          43.5400                 2.8795          51.7800   \n",
       "\n",
       "   Nota Padronizada - CE  Conceito Enade (Contínuo)  Conceito Enade (Faixa)  \\\n",
       "0                 3.1363                     3.0415                       4   \n",
       "1                 2.7652                     2.7336                       3   \n",
       "2                 3.3516                     3.5312                       4   \n",
       "3                 2.9870                     3.0542                       4   \n",
       "4                 2.0580                     2.2634                       3   \n",
       "\n",
       "   Observação  \n",
       "0         NaN  \n",
       "1         NaN  \n",
       "2         NaN  \n",
       "3         NaN  \n",
       "4         NaN  \n",
       "\n",
       "[5 rows x 22 columns]"
      ],
      "text/html": "<div>\n<style scoped>\n    .dataframe tbody tr th:only-of-type {\n        vertical-align: middle;\n    }\n\n    .dataframe tbody tr th {\n        vertical-align: top;\n    }\n\n    .dataframe thead th {\n        text-align: right;\n    }\n</style>\n<table border=\"1\" class=\"dataframe\">\n  <thead>\n    <tr style=\"text-align: right;\">\n      <th></th>\n      <th>Ano</th>\n      <th>Código da Área</th>\n      <th>Área de Avaliação</th>\n      <th>Código da IES</th>\n      <th>Nome da IES</th>\n      <th>Sigla da IES</th>\n      <th>Organização Acadêmica</th>\n      <th>Categoria Administrativa</th>\n      <th>Código do Curso</th>\n      <th>Modalidade de Ensino</th>\n      <th>...</th>\n      <th>Sigla da UF</th>\n      <th>Nº de Concluintes Inscritos</th>\n      <th>Nº  de Concluintes Participantes</th>\n      <th>Nota Bruta - FG</th>\n      <th>Nota Padronizada - FG</th>\n      <th>Nota Bruta - CE</th>\n      <th>Nota Padronizada - CE</th>\n      <th>Conceito Enade (Contínuo)</th>\n      <th>Conceito Enade (Faixa)</th>\n      <th>Observação</th>\n    </tr>\n  </thead>\n  <tbody>\n    <tr>\n      <th>0</th>\n      <td>2019</td>\n      <td>5</td>\n      <td>MEDICINA VETERINÁRIA</td>\n      <td>1</td>\n      <td>UNIVERSIDADE FEDERAL DE MATO GROSSO</td>\n      <td>UFMT</td>\n      <td>Universidade</td>\n      <td>Pública Federal</td>\n      <td>37</td>\n      <td>Educação Presencial</td>\n      <td>...</td>\n      <td>MT</td>\n      <td>23</td>\n      <td>20</td>\n      <td>42.8150</td>\n      <td>2.7573</td>\n      <td>57.8000</td>\n      <td>3.1363</td>\n      <td>3.0415</td>\n      <td>4</td>\n      <td>NaN</td>\n    </tr>\n    <tr>\n      <th>1</th>\n      <td>2019</td>\n      <td>5</td>\n      <td>MEDICINA VETERINÁRIA</td>\n      <td>1</td>\n      <td>UNIVERSIDADE FEDERAL DE MATO GROSSO</td>\n      <td>UFMT</td>\n      <td>Universidade</td>\n      <td>Pública Federal</td>\n      <td>100763</td>\n      <td>Educação Presencial</td>\n      <td>...</td>\n      <td>MT</td>\n      <td>46</td>\n      <td>39</td>\n      <td>42.1128</td>\n      <td>2.6390</td>\n      <td>55.7282</td>\n      <td>2.7652</td>\n      <td>2.7336</td>\n      <td>3</td>\n      <td>NaN</td>\n    </tr>\n    <tr>\n      <th>2</th>\n      <td>2019</td>\n      <td>5</td>\n      <td>MEDICINA VETERINÁRIA</td>\n      <td>2</td>\n      <td>UNIVERSIDADE DE BRASÍLIA</td>\n      <td>UNB</td>\n      <td>Universidade</td>\n      <td>Pública Federal</td>\n      <td>18031</td>\n      <td>Educação Presencial</td>\n      <td>...</td>\n      <td>DF</td>\n      <td>129</td>\n      <td>119</td>\n      <td>50.6050</td>\n      <td>4.0697</td>\n      <td>59.0025</td>\n      <td>3.3516</td>\n      <td>3.5312</td>\n      <td>4</td>\n      <td>NaN</td>\n    </tr>\n    <tr>\n      <th>3</th>\n      <td>2019</td>\n      <td>5</td>\n      <td>MEDICINA VETERINÁRIA</td>\n      <td>3</td>\n      <td>UNIVERSIDADE FEDERAL DE SERGIPE</td>\n      <td>UFS</td>\n      <td>Universidade</td>\n      <td>Pública Federal</td>\n      <td>1108067</td>\n      <td>Educação Presencial</td>\n      <td>...</td>\n      <td>SE</td>\n      <td>47</td>\n      <td>39</td>\n      <td>45.7744</td>\n      <td>3.2559</td>\n      <td>56.9667</td>\n      <td>2.9870</td>\n      <td>3.0542</td>\n      <td>4</td>\n      <td>NaN</td>\n    </tr>\n    <tr>\n      <th>4</th>\n      <td>2019</td>\n      <td>5</td>\n      <td>MEDICINA VETERINÁRIA</td>\n      <td>3</td>\n      <td>UNIVERSIDADE FEDERAL DE SERGIPE</td>\n      <td>UFS</td>\n      <td>Universidade</td>\n      <td>Pública Federal</td>\n      <td>1321453</td>\n      <td>Educação Presencial</td>\n      <td>...</td>\n      <td>SE</td>\n      <td>28</td>\n      <td>25</td>\n      <td>43.5400</td>\n      <td>2.8795</td>\n      <td>51.7800</td>\n      <td>2.0580</td>\n      <td>2.2634</td>\n      <td>3</td>\n      <td>NaN</td>\n    </tr>\n  </tbody>\n</table>\n<p>5 rows × 22 columns</p>\n</div>"
     },
     "metadata": {},
     "execution_count": 35
    }
   ],
   "source": [
    "conceito.head()"
   ]
  },
  {
   "cell_type": "code",
   "execution_count": 36,
   "metadata": {},
   "outputs": [],
   "source": [
    "fltr= conceito['Área de Avaliação']== 'ARQUITETURA E URBANISMO'\n",
    "arq = conceito.loc[fltr]"
   ]
  },
  {
   "cell_type": "code",
   "execution_count": 37,
   "metadata": {},
   "outputs": [
    {
     "output_type": "stream",
     "name": "stdout",
     "text": [
      "<class 'pandas.core.frame.DataFrame'>\nRangeIndex: 8368 entries, 0 to 8367\nData columns (total 22 columns):\n #   Column                            Non-Null Count  Dtype  \n---  ------                            --------------  -----  \n 0   Ano                               8368 non-null   int64  \n 1   Código da Área                    8368 non-null   int64  \n 2   Área de Avaliação                 8368 non-null   object \n 3   Código da IES                     8368 non-null   int64  \n 4   Nome da IES                       8368 non-null   object \n 5   Sigla da IES                      7493 non-null   object \n 6   Organização Acadêmica             8368 non-null   object \n 7   Categoria Administrativa          8368 non-null   object \n 8   Código do Curso                   8368 non-null   int64  \n 9   Modalidade de Ensino              8368 non-null   object \n 10  Código do Município               8368 non-null   int64  \n 11  Município do Curso                8368 non-null   object \n 12  Sigla da UF                       8368 non-null   object \n 13  Nº de Concluintes Inscritos       8368 non-null   int64  \n 14  Nº  de Concluintes Participantes  8368 non-null   int64  \n 15  Nota Bruta - FG                   8188 non-null   float64\n 16  Nota Padronizada - FG             8188 non-null   float64\n 17  Nota Bruta - CE                   8188 non-null   float64\n 18  Nota Padronizada - CE             8188 non-null   float64\n 19  Conceito Enade (Contínuo)         8188 non-null   float64\n 20  Conceito Enade (Faixa)            8367 non-null   object \n 21  Observação                        1 non-null      object \ndtypes: float64(5), int64(7), object(10)\nmemory usage: 1.4+ MB\n"
     ]
    }
   ],
   "source": [
    "conceito.info()"
   ]
  },
  {
   "cell_type": "code",
   "execution_count": 7,
   "metadata": {},
   "outputs": [],
   "source": [
    "fltr = conceito['Sigla da IES'] == 'UFBA'\n",
    "conc_UFBA = conceito.loc[fltr]"
   ]
  },
  {
   "cell_type": "code",
   "execution_count": 38,
   "metadata": {},
   "outputs": [
    {
     "output_type": "execute_result",
     "data": {
      "text/plain": [
       "Sigla da IES\n",
       "-                  3\n",
       "ADJETIVO-CETEP     1\n",
       "AEMS              17\n",
       "AFARP              2\n",
       "AJES               3\n",
       "                  ..\n",
       "Uniopet            4\n",
       "UnirG              7\n",
       "Univeritas UNG    17\n",
       "VÉRTICE            6\n",
       "Área1 Wyden        8\n",
       "Name: Conceito Enade (Faixa), Length: 959, dtype: int64"
      ]
     },
     "metadata": {},
     "execution_count": 38
    }
   ],
   "source": [
    "conceito.groupby(['Sigla da IES'])['Conceito Enade (Faixa)'].count()"
   ]
  },
  {
   "cell_type": "code",
   "execution_count": 47,
   "metadata": {},
   "outputs": [
    {
     "output_type": "stream",
     "name": "stdout",
     "text": [
      "(400, 23)\n"
     ]
    },
    {
     "output_type": "execute_result",
     "data": {
      "text/plain": [
       "     index   Ano  Código da Área        Área de Avaliação  Código da IES  \\\n",
       "356   1599  2019              21  ARQUITETURA E URBANISMO            578   \n",
       "365   1598  2019              21  ARQUITETURA E URBANISMO            578   \n",
       "\n",
       "                       Nome da IES Sigla da IES Organização Acadêmica  \\\n",
       "356  UNIVERSIDADE FEDERAL DA BAHIA         UFBA          Universidade   \n",
       "365  UNIVERSIDADE FEDERAL DA BAHIA         UFBA          Universidade   \n",
       "\n",
       "    Categoria Administrativa  Código do Curso  ... Sigla da UF  \\\n",
       "356          Pública Federal           117044  ...          BA   \n",
       "365          Pública Federal            13266  ...          BA   \n",
       "\n",
       "     Nº de Concluintes Inscritos Nº  de Concluintes Participantes  \\\n",
       "356                           61                               54   \n",
       "365                          184                              147   \n",
       "\n",
       "    Nota Bruta - FG  Nota Padronizada - FG  Nota Bruta - CE  \\\n",
       "356         52.3685                 3.9361          65.4167   \n",
       "365         56.3361                 4.5631          65.6735   \n",
       "\n",
       "     Nota Padronizada - CE  Conceito Enade (Contínuo)  Conceito Enade (Faixa)  \\\n",
       "356                 3.5228                     3.6262                       4   \n",
       "365                 3.5592                     3.8102                       4   \n",
       "\n",
       "     Observação  \n",
       "356         NaN  \n",
       "365         NaN  \n",
       "\n",
       "[2 rows x 23 columns]"
      ],
      "text/html": "<div>\n<style scoped>\n    .dataframe tbody tr th:only-of-type {\n        vertical-align: middle;\n    }\n\n    .dataframe tbody tr th {\n        vertical-align: top;\n    }\n\n    .dataframe thead th {\n        text-align: right;\n    }\n</style>\n<table border=\"1\" class=\"dataframe\">\n  <thead>\n    <tr style=\"text-align: right;\">\n      <th></th>\n      <th>index</th>\n      <th>Ano</th>\n      <th>Código da Área</th>\n      <th>Área de Avaliação</th>\n      <th>Código da IES</th>\n      <th>Nome da IES</th>\n      <th>Sigla da IES</th>\n      <th>Organização Acadêmica</th>\n      <th>Categoria Administrativa</th>\n      <th>Código do Curso</th>\n      <th>...</th>\n      <th>Sigla da UF</th>\n      <th>Nº de Concluintes Inscritos</th>\n      <th>Nº  de Concluintes Participantes</th>\n      <th>Nota Bruta - FG</th>\n      <th>Nota Padronizada - FG</th>\n      <th>Nota Bruta - CE</th>\n      <th>Nota Padronizada - CE</th>\n      <th>Conceito Enade (Contínuo)</th>\n      <th>Conceito Enade (Faixa)</th>\n      <th>Observação</th>\n    </tr>\n  </thead>\n  <tbody>\n    <tr>\n      <th>356</th>\n      <td>1599</td>\n      <td>2019</td>\n      <td>21</td>\n      <td>ARQUITETURA E URBANISMO</td>\n      <td>578</td>\n      <td>UNIVERSIDADE FEDERAL DA BAHIA</td>\n      <td>UFBA</td>\n      <td>Universidade</td>\n      <td>Pública Federal</td>\n      <td>117044</td>\n      <td>...</td>\n      <td>BA</td>\n      <td>61</td>\n      <td>54</td>\n      <td>52.3685</td>\n      <td>3.9361</td>\n      <td>65.4167</td>\n      <td>3.5228</td>\n      <td>3.6262</td>\n      <td>4</td>\n      <td>NaN</td>\n    </tr>\n    <tr>\n      <th>365</th>\n      <td>1598</td>\n      <td>2019</td>\n      <td>21</td>\n      <td>ARQUITETURA E URBANISMO</td>\n      <td>578</td>\n      <td>UNIVERSIDADE FEDERAL DA BAHIA</td>\n      <td>UFBA</td>\n      <td>Universidade</td>\n      <td>Pública Federal</td>\n      <td>13266</td>\n      <td>...</td>\n      <td>BA</td>\n      <td>184</td>\n      <td>147</td>\n      <td>56.3361</td>\n      <td>4.5631</td>\n      <td>65.6735</td>\n      <td>3.5592</td>\n      <td>3.8102</td>\n      <td>4</td>\n      <td>NaN</td>\n    </tr>\n  </tbody>\n</table>\n<p>2 rows × 23 columns</p>\n</div>"
     },
     "metadata": {},
     "execution_count": 47
    }
   ],
   "source": [
    "arq_ord = arq.sort_values(by=['Conceito Enade (Contínuo)']).reset_index()\n",
    "print(arq_ord.shape)\n",
    "ufba_pos = arq_ord['Sigla da IES'] == 'UFBA'\n",
    "arq_ord.loc[ufba_pos]"
   ]
  },
  {
   "cell_type": "code",
   "execution_count": 46,
   "metadata": {},
   "outputs": [
    {
     "output_type": "execute_result",
     "data": {
      "text/plain": [
       "     index   Ano  Código da Área        Área de Avaliação  Código da IES  \\\n",
       "0     1784  2019              21  ARQUITETURA E URBANISMO           4030   \n",
       "1     1685  2019              21  ARQUITETURA E URBANISMO           1428   \n",
       "2     1734  2019              21  ARQUITETURA E URBANISMO           1965   \n",
       "3     1455  2019              21  ARQUITETURA E URBANISMO            125   \n",
       "4     1801  2019              21  ARQUITETURA E URBANISMO           5544   \n",
       "..     ...   ...             ...                      ...            ...   \n",
       "395   1590  2019              21  ARQUITETURA E URBANISMO            571   \n",
       "396   1606  2019              21  ARQUITETURA E URBANISMO            584   \n",
       "397   1722  2019              21  ARQUITETURA E URBANISMO           1810   \n",
       "398   1553  2019              21  ARQUITETURA E URBANISMO            448   \n",
       "399   1723  2019              21  ARQUITETURA E URBANISMO           1818   \n",
       "\n",
       "                                           Nome da IES Sigla da IES  \\\n",
       "0                      CENTRO UNIVERSITÁRIO FLUMINENSE       UNIFLU   \n",
       "1                INSTITUTO DE ENSINO SUPERIOR PLANALTO      IESPLAN   \n",
       "2                   FACULDADE DE TECNOLOGIA DE ALAGOAS       FAT/AL   \n",
       "3                     CENTRO UNIVERSITÁRIO DE ARARAS -         UNAR   \n",
       "4                  FACULDADE PRESIDENTE ANTÔNIO CARLOS        FAPAC   \n",
       "..                                                 ...          ...   \n",
       "395                     UNIVERSIDADE FEDERAL DO PARANÁ         UFPR   \n",
       "396                      UNIVERSIDADE FEDERAL DE GOIÁS          UFG   \n",
       "397  INSTITUTO FEDERAL DE EDUCAÇÃO, CIÊNCIA E TECNO...         IFSP   \n",
       "398               CENTRO UNIVERSITÁRIO RITTER DOS REIS    UNIRITTER   \n",
       "399              FACULDADE PITÁGORAS DE BELO HORIZONTE         FPAS   \n",
       "\n",
       "                                 Organização Acadêmica  \\\n",
       "0                                 Centro Universitário   \n",
       "1                                            Faculdade   \n",
       "2                                            Faculdade   \n",
       "3                                 Centro Universitário   \n",
       "4                                            Faculdade   \n",
       "..                                                 ...   \n",
       "395                                       Universidade   \n",
       "396                                       Universidade   \n",
       "397  Instituto Federal de Educação, Ciência e Tecno...   \n",
       "398                               Centro Universitário   \n",
       "399                                          Faculdade   \n",
       "\n",
       "        Categoria Administrativa  Código do Curso  ... Sigla da UF  \\\n",
       "0    Privada sem fins lucrativos            78154  ...          RJ   \n",
       "1    Privada com fins lucrativos            20723  ...          DF   \n",
       "2    Privada sem fins lucrativos          1181199  ...          AL   \n",
       "3    Privada sem fins lucrativos            68190  ...          SP   \n",
       "4    Privada com fins lucrativos            72771  ...          TO   \n",
       "..                           ...              ...  ...         ...   \n",
       "395              Pública Federal            12567  ...          PR   \n",
       "396              Pública Federal           122584  ...          GO   \n",
       "397              Pública Federal          1260216  ...          SP   \n",
       "398  Privada com fins lucrativos          1283894  ...          RS   \n",
       "399  Privada com fins lucrativos          1183072  ...          MG   \n",
       "\n",
       "     Nº de Concluintes Inscritos Nº  de Concluintes Participantes  \\\n",
       "0                             26                               26   \n",
       "1                              4                                4   \n",
       "2                             14                               14   \n",
       "3                             42                               22   \n",
       "4                             22                               21   \n",
       "..                           ...                              ...   \n",
       "395                           66                               60   \n",
       "396                           45                               38   \n",
       "397                           39                               36   \n",
       "398                            1                                1   \n",
       "399                            2                                1   \n",
       "\n",
       "    Nota Bruta - FG  Nota Padronizada - FG  Nota Bruta - CE  \\\n",
       "0           31.3269                 0.6109          40.5346   \n",
       "1           28.4750                 0.1602          43.5500   \n",
       "2           30.0571                 0.4102          43.3000   \n",
       "3           30.7545                 0.5204          43.2136   \n",
       "4           33.5286                 0.9588          42.3762   \n",
       "..              ...                    ...              ...   \n",
       "395         58.8483                 4.9601          73.5567   \n",
       "396         61.9211                 5.0000          73.6289   \n",
       "397         56.8417                 4.6430          75.8500   \n",
       "398             NaN                    NaN              NaN   \n",
       "399             NaN                    NaN              NaN   \n",
       "\n",
       "     Nota Padronizada - CE  Conceito Enade (Contínuo)  Conceito Enade (Faixa)  \\\n",
       "0                   0.0000                     0.1527                       1   \n",
       "1                   0.4269                     0.3602                       1   \n",
       "2                   0.3915                     0.3962                       1   \n",
       "3                   0.3793                     0.4146                       1   \n",
       "4                   0.2607                     0.4352                       1   \n",
       "..                     ...                        ...                     ...   \n",
       "395                 4.6753                     4.7465                       5   \n",
       "396                 4.6855                     4.7642                       5   \n",
       "397                 5.0000                     4.9108                       5   \n",
       "398                    NaN                        NaN                      SC   \n",
       "399                    NaN                        NaN                      SC   \n",
       "\n",
       "     Observação  \n",
       "0           NaN  \n",
       "1           NaN  \n",
       "2           NaN  \n",
       "3           NaN  \n",
       "4           NaN  \n",
       "..          ...  \n",
       "395         NaN  \n",
       "396         NaN  \n",
       "397         NaN  \n",
       "398         NaN  \n",
       "399         NaN  \n",
       "\n",
       "[400 rows x 23 columns]"
      ],
      "text/html": "<div>\n<style scoped>\n    .dataframe tbody tr th:only-of-type {\n        vertical-align: middle;\n    }\n\n    .dataframe tbody tr th {\n        vertical-align: top;\n    }\n\n    .dataframe thead th {\n        text-align: right;\n    }\n</style>\n<table border=\"1\" class=\"dataframe\">\n  <thead>\n    <tr style=\"text-align: right;\">\n      <th></th>\n      <th>index</th>\n      <th>Ano</th>\n      <th>Código da Área</th>\n      <th>Área de Avaliação</th>\n      <th>Código da IES</th>\n      <th>Nome da IES</th>\n      <th>Sigla da IES</th>\n      <th>Organização Acadêmica</th>\n      <th>Categoria Administrativa</th>\n      <th>Código do Curso</th>\n      <th>...</th>\n      <th>Sigla da UF</th>\n      <th>Nº de Concluintes Inscritos</th>\n      <th>Nº  de Concluintes Participantes</th>\n      <th>Nota Bruta - FG</th>\n      <th>Nota Padronizada - FG</th>\n      <th>Nota Bruta - CE</th>\n      <th>Nota Padronizada - CE</th>\n      <th>Conceito Enade (Contínuo)</th>\n      <th>Conceito Enade (Faixa)</th>\n      <th>Observação</th>\n    </tr>\n  </thead>\n  <tbody>\n    <tr>\n      <th>0</th>\n      <td>1784</td>\n      <td>2019</td>\n      <td>21</td>\n      <td>ARQUITETURA E URBANISMO</td>\n      <td>4030</td>\n      <td>CENTRO UNIVERSITÁRIO FLUMINENSE</td>\n      <td>UNIFLU</td>\n      <td>Centro Universitário</td>\n      <td>Privada sem fins lucrativos</td>\n      <td>78154</td>\n      <td>...</td>\n      <td>RJ</td>\n      <td>26</td>\n      <td>26</td>\n      <td>31.3269</td>\n      <td>0.6109</td>\n      <td>40.5346</td>\n      <td>0.0000</td>\n      <td>0.1527</td>\n      <td>1</td>\n      <td>NaN</td>\n    </tr>\n    <tr>\n      <th>1</th>\n      <td>1685</td>\n      <td>2019</td>\n      <td>21</td>\n      <td>ARQUITETURA E URBANISMO</td>\n      <td>1428</td>\n      <td>INSTITUTO DE ENSINO SUPERIOR PLANALTO</td>\n      <td>IESPLAN</td>\n      <td>Faculdade</td>\n      <td>Privada com fins lucrativos</td>\n      <td>20723</td>\n      <td>...</td>\n      <td>DF</td>\n      <td>4</td>\n      <td>4</td>\n      <td>28.4750</td>\n      <td>0.1602</td>\n      <td>43.5500</td>\n      <td>0.4269</td>\n      <td>0.3602</td>\n      <td>1</td>\n      <td>NaN</td>\n    </tr>\n    <tr>\n      <th>2</th>\n      <td>1734</td>\n      <td>2019</td>\n      <td>21</td>\n      <td>ARQUITETURA E URBANISMO</td>\n      <td>1965</td>\n      <td>FACULDADE DE TECNOLOGIA DE ALAGOAS</td>\n      <td>FAT/AL</td>\n      <td>Faculdade</td>\n      <td>Privada sem fins lucrativos</td>\n      <td>1181199</td>\n      <td>...</td>\n      <td>AL</td>\n      <td>14</td>\n      <td>14</td>\n      <td>30.0571</td>\n      <td>0.4102</td>\n      <td>43.3000</td>\n      <td>0.3915</td>\n      <td>0.3962</td>\n      <td>1</td>\n      <td>NaN</td>\n    </tr>\n    <tr>\n      <th>3</th>\n      <td>1455</td>\n      <td>2019</td>\n      <td>21</td>\n      <td>ARQUITETURA E URBANISMO</td>\n      <td>125</td>\n      <td>CENTRO UNIVERSITÁRIO DE ARARAS -</td>\n      <td>UNAR</td>\n      <td>Centro Universitário</td>\n      <td>Privada sem fins lucrativos</td>\n      <td>68190</td>\n      <td>...</td>\n      <td>SP</td>\n      <td>42</td>\n      <td>22</td>\n      <td>30.7545</td>\n      <td>0.5204</td>\n      <td>43.2136</td>\n      <td>0.3793</td>\n      <td>0.4146</td>\n      <td>1</td>\n      <td>NaN</td>\n    </tr>\n    <tr>\n      <th>4</th>\n      <td>1801</td>\n      <td>2019</td>\n      <td>21</td>\n      <td>ARQUITETURA E URBANISMO</td>\n      <td>5544</td>\n      <td>FACULDADE PRESIDENTE ANTÔNIO CARLOS</td>\n      <td>FAPAC</td>\n      <td>Faculdade</td>\n      <td>Privada com fins lucrativos</td>\n      <td>72771</td>\n      <td>...</td>\n      <td>TO</td>\n      <td>22</td>\n      <td>21</td>\n      <td>33.5286</td>\n      <td>0.9588</td>\n      <td>42.3762</td>\n      <td>0.2607</td>\n      <td>0.4352</td>\n      <td>1</td>\n      <td>NaN</td>\n    </tr>\n    <tr>\n      <th>...</th>\n      <td>...</td>\n      <td>...</td>\n      <td>...</td>\n      <td>...</td>\n      <td>...</td>\n      <td>...</td>\n      <td>...</td>\n      <td>...</td>\n      <td>...</td>\n      <td>...</td>\n      <td>...</td>\n      <td>...</td>\n      <td>...</td>\n      <td>...</td>\n      <td>...</td>\n      <td>...</td>\n      <td>...</td>\n      <td>...</td>\n      <td>...</td>\n      <td>...</td>\n      <td>...</td>\n    </tr>\n    <tr>\n      <th>395</th>\n      <td>1590</td>\n      <td>2019</td>\n      <td>21</td>\n      <td>ARQUITETURA E URBANISMO</td>\n      <td>571</td>\n      <td>UNIVERSIDADE FEDERAL DO PARANÁ</td>\n      <td>UFPR</td>\n      <td>Universidade</td>\n      <td>Pública Federal</td>\n      <td>12567</td>\n      <td>...</td>\n      <td>PR</td>\n      <td>66</td>\n      <td>60</td>\n      <td>58.8483</td>\n      <td>4.9601</td>\n      <td>73.5567</td>\n      <td>4.6753</td>\n      <td>4.7465</td>\n      <td>5</td>\n      <td>NaN</td>\n    </tr>\n    <tr>\n      <th>396</th>\n      <td>1606</td>\n      <td>2019</td>\n      <td>21</td>\n      <td>ARQUITETURA E URBANISMO</td>\n      <td>584</td>\n      <td>UNIVERSIDADE FEDERAL DE GOIÁS</td>\n      <td>UFG</td>\n      <td>Universidade</td>\n      <td>Pública Federal</td>\n      <td>122584</td>\n      <td>...</td>\n      <td>GO</td>\n      <td>45</td>\n      <td>38</td>\n      <td>61.9211</td>\n      <td>5.0000</td>\n      <td>73.6289</td>\n      <td>4.6855</td>\n      <td>4.7642</td>\n      <td>5</td>\n      <td>NaN</td>\n    </tr>\n    <tr>\n      <th>397</th>\n      <td>1722</td>\n      <td>2019</td>\n      <td>21</td>\n      <td>ARQUITETURA E URBANISMO</td>\n      <td>1810</td>\n      <td>INSTITUTO FEDERAL DE EDUCAÇÃO, CIÊNCIA E TECNO...</td>\n      <td>IFSP</td>\n      <td>Instituto Federal de Educação, Ciência e Tecno...</td>\n      <td>Pública Federal</td>\n      <td>1260216</td>\n      <td>...</td>\n      <td>SP</td>\n      <td>39</td>\n      <td>36</td>\n      <td>56.8417</td>\n      <td>4.6430</td>\n      <td>75.8500</td>\n      <td>5.0000</td>\n      <td>4.9108</td>\n      <td>5</td>\n      <td>NaN</td>\n    </tr>\n    <tr>\n      <th>398</th>\n      <td>1553</td>\n      <td>2019</td>\n      <td>21</td>\n      <td>ARQUITETURA E URBANISMO</td>\n      <td>448</td>\n      <td>CENTRO UNIVERSITÁRIO RITTER DOS REIS</td>\n      <td>UNIRITTER</td>\n      <td>Centro Universitário</td>\n      <td>Privada com fins lucrativos</td>\n      <td>1283894</td>\n      <td>...</td>\n      <td>RS</td>\n      <td>1</td>\n      <td>1</td>\n      <td>NaN</td>\n      <td>NaN</td>\n      <td>NaN</td>\n      <td>NaN</td>\n      <td>NaN</td>\n      <td>SC</td>\n      <td>NaN</td>\n    </tr>\n    <tr>\n      <th>399</th>\n      <td>1723</td>\n      <td>2019</td>\n      <td>21</td>\n      <td>ARQUITETURA E URBANISMO</td>\n      <td>1818</td>\n      <td>FACULDADE PITÁGORAS DE BELO HORIZONTE</td>\n      <td>FPAS</td>\n      <td>Faculdade</td>\n      <td>Privada com fins lucrativos</td>\n      <td>1183072</td>\n      <td>...</td>\n      <td>MG</td>\n      <td>2</td>\n      <td>1</td>\n      <td>NaN</td>\n      <td>NaN</td>\n      <td>NaN</td>\n      <td>NaN</td>\n      <td>NaN</td>\n      <td>SC</td>\n      <td>NaN</td>\n    </tr>\n  </tbody>\n</table>\n<p>400 rows × 23 columns</p>\n</div>"
     },
     "metadata": {},
     "execution_count": 46
    }
   ],
   "source": [
    "arq_ord"
   ]
  },
  {
   "cell_type": "code",
   "execution_count": 106,
   "metadata": {},
   "outputs": [
    {
     "output_type": "stream",
     "name": "stdout",
     "text": [
      "<class 'pandas.core.frame.DataFrame'>\nRangeIndex: 6 entries, 0 to 5\nData columns (total 22 columns):\n #   Column                            Non-Null Count  Dtype \n---  ------                            --------------  ----- \n 0   Conceito Enade (Faixa)            6 non-null      object\n 1   Ano                               6 non-null      int64 \n 2   Código da Área                    6 non-null      int64 \n 3   Área de Avaliação                 6 non-null      int64 \n 4   Código da IES                     6 non-null      int64 \n 5   Nome da IES                       6 non-null      int64 \n 6   Sigla da IES                      6 non-null      int64 \n 7   Organização Acadêmica             6 non-null      int64 \n 8   Categoria Administrativa          6 non-null      int64 \n 9   Código do Curso                   6 non-null      int64 \n 10  Modalidade de Ensino              6 non-null      int64 \n 11  Código do Município               6 non-null      int64 \n 12  Município do Curso                6 non-null      int64 \n 13  Sigla da UF                       6 non-null      int64 \n 14  Nº de Concluintes Inscritos       6 non-null      int64 \n 15  Nº  de Concluintes Participantes  6 non-null      int64 \n 16  Nota Bruta - FG                   6 non-null      int64 \n 17  Nota Padronizada - FG             6 non-null      int64 \n 18  Nota Bruta - CE                   6 non-null      int64 \n 19  Nota Padronizada - CE             6 non-null      int64 \n 20  Conceito Enade (Contínuo)         6 non-null      int64 \n 21  Observação                        6 non-null      int64 \ndtypes: int64(21), object(1)\nmemory usage: 1.2+ KB\n"
     ]
    }
   ],
   "source": [
    "arq_faixa = arq.groupby(['Conceito Enade (Faixa)']).count().reset_index()\n",
    "\n",
    "arq_faixa.info()"
   ]
  },
  {
   "cell_type": "code",
   "execution_count": 222,
   "metadata": {},
   "outputs": [
    {
     "output_type": "execute_result",
     "data": {
      "text/plain": [
       "'BarBrCondceitoFaixa.html'"
      ]
     },
     "metadata": {},
     "execution_count": 222
    }
   ],
   "source": [
    "data = [go.Bar(\n",
    "    x=arq_faixa['Conceito Enade (Faixa)'],\n",
    "    y=arq_faixa['Ano'],\n",
    "    marker=dict(color=arq_faixa['Ano'],  colorscale ='tealgrn')\n",
    ")]\n",
    "layout = go.Layout(\n",
    "    width=750, height=400,\n",
    "    title='Número de cursos de Arquitetura e Urbanismo do Brasil por conceito (Faixa)',\n",
    "    yaxis=dict(\n",
    "        title_text=\"Número de cursos\"\n",
    "    ),\n",
    "     xaxis=dict(\n",
    "        title_text=\"Conceito (Faixa)\"\n",
    "    ),\n",
    "     hovermode = 'x'\n",
    ")\n",
    "fig = go.Figure(data=data, layout=layout)\n",
    "pyo.plot(fig, filename='BarBrCondceitoFaixa.html')"
   ]
  },
  {
   "cell_type": "code",
   "execution_count": 247,
   "metadata": {},
   "outputs": [
    {
     "output_type": "execute_result",
     "data": {
      "text/plain": [
       "'PieBrCondceitoFaixa.html'"
      ]
     },
     "metadata": {},
     "execution_count": 247
    }
   ],
   "source": [
    "arq_faixa.sort_values(by='Conceito Enade (Faixa)', inplace =True)\n",
    "\n",
    "colors = ['chocolate', 'coral', 'cornflowerblue',\n",
    "                'goldenrod', 'crimson', 'chartreuse']\n",
    "\n",
    "data = go.Pie( values=arq_faixa['Ano'], labels = arq_faixa['Conceito Enade (Faixa)'], marker=dict( colors=arq_faixa['Ano'])\n",
    ")\n",
    "\n",
    "layout={ 'width' : 600, 'height' :500,\n",
    "        'showlegend': False,\n",
    "        'title': \"Cursos de Arquitetura e Urbanismo do Brasil por conceito (Faixa)\"\n",
    "        }\n",
    "\n",
    "fig = go.Figure(data=data, layout=layout)\n",
    "pyo.plot(fig, filename='PieBrCondceitoFaixa.html')"
   ]
  },
  {
   "cell_type": "code",
   "execution_count": 200,
   "metadata": {},
   "outputs": [
    {
     "output_type": "execute_result",
     "data": {
      "text/plain": [
       "  SIGLA    ESTADO      CAPITAL  REGIAO\n",
       "0    AC      ACRE   RIO BRANCO   NORTE\n",
       "1    AM  AMAZONAS       MANAUS   NORTE\n",
       "2    AP     AMAPÁ       MACAPÁ  NORTE \n",
       "3    PA      PARÁ        BELÉM   NORTE\n",
       "4    RO  RONDÔNIA  PORTO VELHO   NORTE"
      ],
      "text/html": "<div>\n<style scoped>\n    .dataframe tbody tr th:only-of-type {\n        vertical-align: middle;\n    }\n\n    .dataframe tbody tr th {\n        vertical-align: top;\n    }\n\n    .dataframe thead th {\n        text-align: right;\n    }\n</style>\n<table border=\"1\" class=\"dataframe\">\n  <thead>\n    <tr style=\"text-align: right;\">\n      <th></th>\n      <th>SIGLA</th>\n      <th>ESTADO</th>\n      <th>CAPITAL</th>\n      <th>REGIAO</th>\n    </tr>\n  </thead>\n  <tbody>\n    <tr>\n      <th>0</th>\n      <td>AC</td>\n      <td>ACRE</td>\n      <td>RIO BRANCO</td>\n      <td>NORTE</td>\n    </tr>\n    <tr>\n      <th>1</th>\n      <td>AM</td>\n      <td>AMAZONAS</td>\n      <td>MANAUS</td>\n      <td>NORTE</td>\n    </tr>\n    <tr>\n      <th>2</th>\n      <td>AP</td>\n      <td>AMAPÁ</td>\n      <td>MACAPÁ</td>\n      <td>NORTE</td>\n    </tr>\n    <tr>\n      <th>3</th>\n      <td>PA</td>\n      <td>PARÁ</td>\n      <td>BELÉM</td>\n      <td>NORTE</td>\n    </tr>\n    <tr>\n      <th>4</th>\n      <td>RO</td>\n      <td>RONDÔNIA</td>\n      <td>PORTO VELHO</td>\n      <td>NORTE</td>\n    </tr>\n  </tbody>\n</table>\n</div>"
     },
     "metadata": {},
     "execution_count": 200
    }
   ],
   "source": [
    "uf = pd.read_csv('../dados/brasil.csv', header = 0)\n",
    "uf.head()"
   ]
  },
  {
   "cell_type": "code",
   "execution_count": 202,
   "metadata": {},
   "outputs": [],
   "source": [
    "fltr = uf['REGIAO'] == 'NORDESTE'\n",
    "ne = uf[fltr]"
   ]
  },
  {
   "cell_type": "code",
   "execution_count": 206,
   "metadata": {},
   "outputs": [],
   "source": [
    "listNe = ne['SIGLA'].unique()"
   ]
  },
  {
   "cell_type": "code",
   "execution_count": 216,
   "metadata": {},
   "outputs": [
    {
     "output_type": "execute_result",
     "data": {
      "text/plain": [
       "array(['AC', 'AM', 'PA', 'RO', 'RR', 'TO', 'AL', 'BA', 'CE', 'MA', 'PB',\n",
       "       'PE', 'PI', 'RN', 'SE'], dtype=object)"
      ]
     },
     "metadata": {},
     "execution_count": 216
    }
   ],
   "source": [
    "fltr = uf['REGIAO'].isin(['NORDESTE', 'NORTE'])\n",
    "nne = uf[fltr]\n",
    "\n",
    "listNNe = nne['SIGLA'].unique()\n",
    "listNNe"
   ]
  },
  {
   "cell_type": "code",
   "execution_count": 217,
   "metadata": {},
   "outputs": [
    {
     "output_type": "execute_result",
     "data": {
      "text/plain": [
       "       Ano  Código da Área        Área de Avaliação  Código da IES  \\\n",
       "1418  2019              21  ARQUITETURA E URBANISMO              3   \n",
       "1420  2019              21  ARQUITETURA E URBANISMO              5   \n",
       "1425  2019              21  ARQUITETURA E URBANISMO             11   \n",
       "1519  2019              21  ARQUITETURA E URBANISMO            352   \n",
       "1526  2019              21  ARQUITETURA E URBANISMO            385   \n",
       "\n",
       "                              Nome da IES Sigla da IES Organização Acadêmica  \\\n",
       "1418      UNIVERSIDADE FEDERAL DE SERGIPE          UFS          Universidade   \n",
       "1420        UNIVERSIDADE FEDERAL DO PIAUÍ         UFPI          Universidade   \n",
       "1425  UNIVERSIDADE CATÓLICA DE PERNAMBUCO       UNICAP          Universidade   \n",
       "1519  CENTRO UNIVERSITÁRIO DE JOÃO PESSOA        UNIPÊ  Centro Universitário   \n",
       "1526                UNIVERSIDADE SALVADOR      UNIFACS          Universidade   \n",
       "\n",
       "         Categoria Administrativa  Código do Curso Modalidade de Ensino  ...  \\\n",
       "1418              Pública Federal            99444  Educação Presencial  ...   \n",
       "1420              Pública Federal              517  Educação Presencial  ...   \n",
       "1425  Privada sem fins lucrativos            52971  Educação Presencial  ...   \n",
       "1519  Privada com fins lucrativos            38551  Educação Presencial  ...   \n",
       "1526  Privada com fins lucrativos            20575  Educação Presencial  ...   \n",
       "\n",
       "      Sigla da UF Nº de Concluintes Inscritos  \\\n",
       "1418           SE                          57   \n",
       "1420           PI                          86   \n",
       "1425           PE                         101   \n",
       "1519           PB                         225   \n",
       "1526           BA                         505   \n",
       "\n",
       "     Nº  de Concluintes Participantes  Nota Bruta - FG  Nota Padronizada - FG  \\\n",
       "1418                               54          53.2852                 4.0810   \n",
       "1420                               76          51.8487                 3.8540   \n",
       "1425                               97          43.4278                 2.5232   \n",
       "1519                              204          43.2373                 2.4931   \n",
       "1526                              440          44.4668                 2.6874   \n",
       "\n",
       "      Nota Bruta - CE  Nota Padronizada - CE  Conceito Enade (Contínuo)  \\\n",
       "1418          64.6815                 3.4187                     3.5843   \n",
       "1420          69.6750                 4.1257                     4.0578   \n",
       "1425          59.5474                 2.6919                     2.6497   \n",
       "1519          57.8740                 2.4549                     2.4645   \n",
       "1526          56.4891                 2.2589                     2.3660   \n",
       "\n",
       "      Conceito Enade (Faixa)  Observação  \n",
       "1418                       4         NaN  \n",
       "1420                       5         NaN  \n",
       "1425                       3         NaN  \n",
       "1519                       3         NaN  \n",
       "1526                       3         NaN  \n",
       "\n",
       "[5 rows x 22 columns]"
      ],
      "text/html": "<div>\n<style scoped>\n    .dataframe tbody tr th:only-of-type {\n        vertical-align: middle;\n    }\n\n    .dataframe tbody tr th {\n        vertical-align: top;\n    }\n\n    .dataframe thead th {\n        text-align: right;\n    }\n</style>\n<table border=\"1\" class=\"dataframe\">\n  <thead>\n    <tr style=\"text-align: right;\">\n      <th></th>\n      <th>Ano</th>\n      <th>Código da Área</th>\n      <th>Área de Avaliação</th>\n      <th>Código da IES</th>\n      <th>Nome da IES</th>\n      <th>Sigla da IES</th>\n      <th>Organização Acadêmica</th>\n      <th>Categoria Administrativa</th>\n      <th>Código do Curso</th>\n      <th>Modalidade de Ensino</th>\n      <th>...</th>\n      <th>Sigla da UF</th>\n      <th>Nº de Concluintes Inscritos</th>\n      <th>Nº  de Concluintes Participantes</th>\n      <th>Nota Bruta - FG</th>\n      <th>Nota Padronizada - FG</th>\n      <th>Nota Bruta - CE</th>\n      <th>Nota Padronizada - CE</th>\n      <th>Conceito Enade (Contínuo)</th>\n      <th>Conceito Enade (Faixa)</th>\n      <th>Observação</th>\n    </tr>\n  </thead>\n  <tbody>\n    <tr>\n      <th>1418</th>\n      <td>2019</td>\n      <td>21</td>\n      <td>ARQUITETURA E URBANISMO</td>\n      <td>3</td>\n      <td>UNIVERSIDADE FEDERAL DE SERGIPE</td>\n      <td>UFS</td>\n      <td>Universidade</td>\n      <td>Pública Federal</td>\n      <td>99444</td>\n      <td>Educação Presencial</td>\n      <td>...</td>\n      <td>SE</td>\n      <td>57</td>\n      <td>54</td>\n      <td>53.2852</td>\n      <td>4.0810</td>\n      <td>64.6815</td>\n      <td>3.4187</td>\n      <td>3.5843</td>\n      <td>4</td>\n      <td>NaN</td>\n    </tr>\n    <tr>\n      <th>1420</th>\n      <td>2019</td>\n      <td>21</td>\n      <td>ARQUITETURA E URBANISMO</td>\n      <td>5</td>\n      <td>UNIVERSIDADE FEDERAL DO PIAUÍ</td>\n      <td>UFPI</td>\n      <td>Universidade</td>\n      <td>Pública Federal</td>\n      <td>517</td>\n      <td>Educação Presencial</td>\n      <td>...</td>\n      <td>PI</td>\n      <td>86</td>\n      <td>76</td>\n      <td>51.8487</td>\n      <td>3.8540</td>\n      <td>69.6750</td>\n      <td>4.1257</td>\n      <td>4.0578</td>\n      <td>5</td>\n      <td>NaN</td>\n    </tr>\n    <tr>\n      <th>1425</th>\n      <td>2019</td>\n      <td>21</td>\n      <td>ARQUITETURA E URBANISMO</td>\n      <td>11</td>\n      <td>UNIVERSIDADE CATÓLICA DE PERNAMBUCO</td>\n      <td>UNICAP</td>\n      <td>Universidade</td>\n      <td>Privada sem fins lucrativos</td>\n      <td>52971</td>\n      <td>Educação Presencial</td>\n      <td>...</td>\n      <td>PE</td>\n      <td>101</td>\n      <td>97</td>\n      <td>43.4278</td>\n      <td>2.5232</td>\n      <td>59.5474</td>\n      <td>2.6919</td>\n      <td>2.6497</td>\n      <td>3</td>\n      <td>NaN</td>\n    </tr>\n    <tr>\n      <th>1519</th>\n      <td>2019</td>\n      <td>21</td>\n      <td>ARQUITETURA E URBANISMO</td>\n      <td>352</td>\n      <td>CENTRO UNIVERSITÁRIO DE JOÃO PESSOA</td>\n      <td>UNIPÊ</td>\n      <td>Centro Universitário</td>\n      <td>Privada com fins lucrativos</td>\n      <td>38551</td>\n      <td>Educação Presencial</td>\n      <td>...</td>\n      <td>PB</td>\n      <td>225</td>\n      <td>204</td>\n      <td>43.2373</td>\n      <td>2.4931</td>\n      <td>57.8740</td>\n      <td>2.4549</td>\n      <td>2.4645</td>\n      <td>3</td>\n      <td>NaN</td>\n    </tr>\n    <tr>\n      <th>1526</th>\n      <td>2019</td>\n      <td>21</td>\n      <td>ARQUITETURA E URBANISMO</td>\n      <td>385</td>\n      <td>UNIVERSIDADE SALVADOR</td>\n      <td>UNIFACS</td>\n      <td>Universidade</td>\n      <td>Privada com fins lucrativos</td>\n      <td>20575</td>\n      <td>Educação Presencial</td>\n      <td>...</td>\n      <td>BA</td>\n      <td>505</td>\n      <td>440</td>\n      <td>44.4668</td>\n      <td>2.6874</td>\n      <td>56.4891</td>\n      <td>2.2589</td>\n      <td>2.3660</td>\n      <td>3</td>\n      <td>NaN</td>\n    </tr>\n  </tbody>\n</table>\n<p>5 rows × 22 columns</p>\n</div>"
     },
     "metadata": {},
     "execution_count": 217
    }
   ],
   "source": [
    "fltr = arq['Sigla da UF'].isin(listNe)\n",
    "arq_ne = arq.loc[fltr]\n",
    "arq_ne.head()"
   ]
  },
  {
   "cell_type": "code",
   "execution_count": 223,
   "metadata": {},
   "outputs": [
    {
     "output_type": "stream",
     "name": "stdout",
     "text": [
      "<class 'pandas.core.frame.DataFrame'>\nRangeIndex: 5 entries, 0 to 4\nData columns (total 22 columns):\n #   Column                            Non-Null Count  Dtype \n---  ------                            --------------  ----- \n 0   Conceito Enade (Faixa)            5 non-null      object\n 1   Ano                               5 non-null      int64 \n 2   Código da Área                    5 non-null      int64 \n 3   Área de Avaliação                 5 non-null      int64 \n 4   Código da IES                     5 non-null      int64 \n 5   Nome da IES                       5 non-null      int64 \n 6   Sigla da IES                      5 non-null      int64 \n 7   Organização Acadêmica             5 non-null      int64 \n 8   Categoria Administrativa          5 non-null      int64 \n 9   Código do Curso                   5 non-null      int64 \n 10  Modalidade de Ensino              5 non-null      int64 \n 11  Código do Município               5 non-null      int64 \n 12  Município do Curso                5 non-null      int64 \n 13  Sigla da UF                       5 non-null      int64 \n 14  Nº de Concluintes Inscritos       5 non-null      int64 \n 15  Nº  de Concluintes Participantes  5 non-null      int64 \n 16  Nota Bruta - FG                   5 non-null      int64 \n 17  Nota Padronizada - FG             5 non-null      int64 \n 18  Nota Bruta - CE                   5 non-null      int64 \n 19  Nota Padronizada - CE             5 non-null      int64 \n 20  Conceito Enade (Contínuo)         5 non-null      int64 \n 21  Observação                        5 non-null      int64 \ndtypes: int64(21), object(1)\nmemory usage: 1008.0+ bytes\n"
     ]
    }
   ],
   "source": [
    "arq_faixa_ne = arq_ne.groupby(['Conceito Enade (Faixa)']).count().reset_index()\n",
    "\n",
    "arq_faixa_ne.info()"
   ]
  },
  {
   "cell_type": "code",
   "execution_count": 225,
   "metadata": {},
   "outputs": [
    {
     "output_type": "execute_result",
     "data": {
      "text/plain": [
       "'BarNeCondceitoFaixa.html'"
      ]
     },
     "metadata": {},
     "execution_count": 225
    }
   ],
   "source": [
    "data = [go.Bar(\n",
    "    x=arq_faixa_ne['Conceito Enade (Faixa)'],\n",
    "    y=arq_faixa_ne['Ano'],\n",
    "    marker=dict(color=arq_faixa_ne['Ano'],  colorscale ='peach')\n",
    ")]\n",
    "layout = go.Layout(\n",
    "    width=750, height=400,\n",
    "    title='Número de cursos de Arquitetura e Urbanismo do Nordeste por conceito (Faixa)',\n",
    "    yaxis=dict(\n",
    "        title_text=\"Número de cursos\"\n",
    "    ),\n",
    "     xaxis=dict(\n",
    "        title_text=\"Conceito (Faixa)\"\n",
    "    ),\n",
    "     hovermode = 'x'\n",
    ")\n",
    "fig = go.Figure(data=data, layout=layout)\n",
    "pyo.plot(fig, filename='BarNeCondceitoFaixa.html')"
   ]
  },
  {
   "cell_type": "code",
   "execution_count": 240,
   "metadata": {},
   "outputs": [
    {
     "output_type": "execute_result",
     "data": {
      "text/plain": [
       "'PieNeCondceitoFaixa.html'"
      ]
     },
     "metadata": {},
     "execution_count": 240
    }
   ],
   "source": [
    "arq_faixa_ne  = arq_faixa_ne.sort_values(by='Conceito Enade (Faixa)')\n",
    "\n",
    "colors = ['chocolate', 'coral', 'cornflowerblue',\n",
    "                'goldenrod', 'crimson', 'chartreuse']\n",
    "\n",
    "data = go.Pie( values=arq_faixa_ne['Ano'], labels = arq_faixa_ne['Conceito Enade (Faixa)'], marker=dict( colors=colors)\n",
    ")\n",
    "\n",
    "layout={ 'width' : 650, 'height' :600,\n",
    "        'showlegend': True,\n",
    "        'title': \"Cursos de Arquitetura e Urbanismo do Nodeste por conceito (Faixa)\"\n",
    "        \n",
    "        }\n",
    "\n",
    "fig = go.Figure(data=data, layout=layout)\n",
    "pyo.plot(fig, filename='PieNeCondceitoFaixa.html')"
   ]
  },
  {
   "cell_type": "code",
   "execution_count": 242,
   "metadata": {},
   "outputs": [],
   "source": [
    "fltr = arq['Sigla da UF'].isin(listNNe)\n",
    "arq_nne = arq.loc[fltr]\n",
    "arq_faixa_nne = arq_nne.groupby(['Conceito Enade (Faixa)']).count().reset_index()"
   ]
  },
  {
   "cell_type": "code",
   "execution_count": 251,
   "metadata": {},
   "outputs": [
    {
     "output_type": "execute_result",
     "data": {
      "text/plain": [
       "'BarNNeCondceitoFaixa.html'"
      ]
     },
     "metadata": {},
     "execution_count": 251
    }
   ],
   "source": [
    "data = [go.Bar(\n",
    "    x=arq_faixa_nne['Conceito Enade (Faixa)'],\n",
    "    y=arq_faixa_nne['Ano'],\n",
    "    marker=dict(color=arq_faixa_nne['Ano'],  colorscale ='portland')\n",
    ")]\n",
    "layout = go.Layout(\n",
    "    width=800, height=400,\n",
    "    title='Número de cursos de Arquitetura e Urbanismo do Norte-Nordeste por conceito (Faixa)',\n",
    "    yaxis=dict(\n",
    "        title_text=\"Número de cursos\"\n",
    "    ),\n",
    "     xaxis=dict(\n",
    "        title_text=\"Conceito (Faixa)\"\n",
    "    ),\n",
    "     hovermode = 'x'\n",
    ")\n",
    "fig = go.Figure(data=data, layout=layout)\n",
    "pyo.plot(fig, filename='BarNNeCondceitoFaixa.html')"
   ]
  },
  {
   "cell_type": "code",
   "execution_count": 245,
   "metadata": {},
   "outputs": [
    {
     "output_type": "execute_result",
     "data": {
      "text/plain": [
       "'PieNNeCondceitoFaixa.html'"
      ]
     },
     "metadata": {},
     "execution_count": 245
    }
   ],
   "source": [
    "arq_faixa_nne  = arq_faixa_nne.sort_values(by='Conceito Enade (Faixa)')\n",
    "\n",
    "colors = ['chocolate', 'coral', 'cornflowerblue',\n",
    "                'goldenrod', 'crimson', 'chartreuse']\n",
    "\n",
    "data = go.Pie( values=arq_faixa_nne['Ano'], labels = arq_faixa_nne['Conceito Enade (Faixa)'], marker=dict( colors=colors)\n",
    ")\n",
    "\n",
    "layout={ 'width' : 650, 'height' :600,\n",
    "        'showlegend': True,\n",
    "        'title': \"Cursos de Arquitetura e Urbanismo do Nodeste por conceito (Faixa)\"\n",
    "        \n",
    "        }\n",
    "\n",
    "fig = go.Figure(data=data, layout=layout)\n",
    "pyo.plot(fig, filename='PieNNeCondceitoFaixa.html')"
   ]
  },
  {
   "cell_type": "code",
   "execution_count": 248,
   "metadata": {},
   "outputs": [],
   "source": [
    "fltr = arq['Sigla da UF'] == \"BA\"\n",
    "arq_BA = arq.loc[fltr]\n",
    "arq_faixa_BA = arq_BA.groupby(['Conceito Enade (Faixa)']).count().reset_index()"
   ]
  },
  {
   "cell_type": "code",
   "execution_count": 254,
   "metadata": {},
   "outputs": [
    {
     "output_type": "execute_result",
     "data": {
      "text/plain": [
       "'BarBACondceitoFaixa.html'"
      ]
     },
     "metadata": {},
     "execution_count": 254
    }
   ],
   "source": [
    "data = [go.Bar(\n",
    "    x=arq_faixa_BA['Conceito Enade (Faixa)'],\n",
    "    y=arq_faixa_BA['Ano'],\n",
    "    marker=dict(color=arq_faixa_BA['Ano'],  colorscale ='cividis')\n",
    ")]\n",
    "layout = go.Layout(\n",
    "    width=800, height=400,\n",
    "    title='Número de cursos de Arquitetura e Urbanismo da Bahia por conceito (Faixa)',\n",
    "    yaxis=dict(\n",
    "        title_text=\"Número de cursos\"\n",
    "    ),\n",
    "     xaxis=dict(\n",
    "        title_text=\"Conceito (Faixa)\"\n",
    "    ),\n",
    "     hovermode = 'x'\n",
    ")\n",
    "fig = go.Figure(data=data, layout=layout)\n",
    "pyo.plot(fig, filename='BarBACondceitoFaixa.html')"
   ]
  },
  {
   "cell_type": "code",
   "execution_count": 250,
   "metadata": {},
   "outputs": [
    {
     "output_type": "execute_result",
     "data": {
      "text/plain": [
       "'PieBACondceitoFaixa.html'"
      ]
     },
     "metadata": {},
     "execution_count": 250
    }
   ],
   "source": [
    "arq_faixa_BA  = arq_faixa_BA.sort_values(by='Conceito Enade (Faixa)')\n",
    "\n",
    "colors = ['chocolate', 'coral', 'cornflowerblue',\n",
    "                'goldenrod', 'crimson', 'chartreuse']\n",
    "\n",
    "data = go.Pie( values=arq_faixa_BA['Ano'], labels = arq_faixa_BA['Conceito Enade (Faixa)'], marker=dict( colors=colors)\n",
    ")\n",
    "\n",
    "layout={ 'width' : 650, 'height' :600,\n",
    "        'showlegend': True,\n",
    "        'title': \"Cursos de Arquitetura e Urbanismo da Bahia por conceito (Faixa)\"\n",
    "        \n",
    "        }\n",
    "\n",
    "fig = go.Figure(data=data, layout=layout)\n",
    "pyo.plot(fig, filename='PieBACondceitoFaixa.html')"
   ]
  },
  {
   "cell_type": "code",
   "execution_count": null,
   "metadata": {},
   "outputs": [],
   "source": []
  }
 ]
}