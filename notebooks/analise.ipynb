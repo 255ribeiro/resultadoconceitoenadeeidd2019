{
 "metadata": {
  "language_info": {
   "codemirror_mode": {
    "name": "ipython",
    "version": 3
   },
   "file_extension": ".py",
   "mimetype": "text/x-python",
   "name": "python",
   "nbconvert_exporter": "python",
   "pygments_lexer": "ipython3",
   "version": "3.7.7-final"
  },
  "orig_nbformat": 2,
  "kernelspec": {
   "name": "Python 3.7.7 64-bit ('geodata20': conda)",
   "display_name": "Python 3.7.7 64-bit ('geodata20': conda)",
   "metadata": {
    "interpreter": {
     "hash": "bd04f98157870cf5e13f46115ec3cad89c473388f13b7e80b8cdb055f9535315"
    }
   }
  }
 },
 "nbformat": 4,
 "nbformat_minor": 2,
 "cells": [
  {
   "cell_type": "code",
   "execution_count": null,
   "metadata": {},
   "outputs": [],
   "source": [
    "import pandas as pd \n",
    "import numpy as np\n",
    "import geopandas as gpd\n",
    "import plotly.offline as pyo \n",
    "import plotly.graph_objs as go\n",
    "import plotly.figure_factory as ff\n",
    "from plotly import tools\n",
    "pd.set_option('display.max_rows', 100)"
   ]
  },
  {
   "cell_type": "code",
   "execution_count": null,
   "metadata": {},
   "outputs": [],
   "source": [
    "conceito = pd.read_excel('../dados/Conceito_Enade_Todas_as_IES_2019_XLXS.xlsx')"
   ]
  },
  {
   "cell_type": "code",
   "execution_count": null,
   "metadata": {},
   "outputs": [],
   "source": [
    "conceito['UFBA'] = np.where(conceito['Sigla da IES'] == \"UFBA\", True, False)"
   ]
  },
  {
   "cell_type": "code",
   "execution_count": null,
   "metadata": {},
   "outputs": [],
   "source": [
    "fltr= conceito['Área de Avaliação']== 'ARQUITETURA E URBANISMO'\n",
    "arq = conceito.loc[fltr]"
   ]
  },
  {
   "cell_type": "code",
   "execution_count": null,
   "metadata": {},
   "outputs": [],
   "source": [
    "conceito.info()"
   ]
  },
  {
   "cell_type": "code",
   "execution_count": null,
   "metadata": {},
   "outputs": [],
   "source": [
    "fltr = conceito['Sigla da IES'] == 'UFBA'\n",
    "conc_UFBA = conceito.loc[fltr]"
   ]
  },
  {
   "cell_type": "code",
   "execution_count": null,
   "metadata": {},
   "outputs": [],
   "source": [
    "conceito.groupby(['Sigla da IES'])['Conceito Enade (Faixa)'].count()"
   ]
  },
  {
   "cell_type": "code",
   "execution_count": null,
   "metadata": {},
   "outputs": [],
   "source": [
    "arq_ord = arq.sort_values(by=['Conceito Enade (Contínuo)']).reset_index()\n",
    "print(arq_ord.shape)\n",
    "ufba_pos = arq_ord['Sigla da IES'] == 'UFBA'\n",
    "arq_ord.loc[ufba_pos]"
   ]
  },
  {
   "cell_type": "code",
   "execution_count": null,
   "metadata": {},
   "outputs": [],
   "source": [
    "arq_ord"
   ]
  },
  {
   "cell_type": "code",
   "execution_count": null,
   "metadata": {},
   "outputs": [],
   "source": [
    "arq_faixa = arq.groupby(['Conceito Enade (Faixa)']).count().reset_index()\n",
    "\n",
    "arq_faixa.info()"
   ]
  },
  {
   "cell_type": "code",
   "execution_count": null,
   "metadata": {},
   "outputs": [],
   "source": [
    "data = [go.Bar(\n",
    "    x=arq_faixa['Conceito Enade (Faixa)'],\n",
    "    y=arq_faixa['Ano'],\n",
    "    marker=dict(color=arq_faixa['Ano'],  colorscale ='tealgrn')\n",
    ")]\n",
    "layout = go.Layout(\n",
    "    width=750, height=400,\n",
    "    title='Número de cursos de Arquitetura e Urbanismo do Brasil por conceito (Faixa)',\n",
    "    yaxis=dict(\n",
    "        title_text=\"Número de cursos\"\n",
    "    ),\n",
    "     xaxis=dict(\n",
    "        title_text=\"Conceito (Faixa)\"\n",
    "    ),\n",
    "     hovermode = 'x'\n",
    ")\n",
    "fig = go.Figure(data=data, layout=layout)\n",
    "pyo.plot(fig, filename='BarBrCondceitoFaixa.html')"
   ]
  },
  {
   "cell_type": "code",
   "execution_count": null,
   "metadata": {},
   "outputs": [],
   "source": [
    "arq_faixa.sort_values(by='Conceito Enade (Faixa)', inplace =True)\n",
    "\n",
    "colors = ['chocolate', 'coral', 'cornflowerblue',\n",
    "                'goldenrod', 'crimson', 'chartreuse']\n",
    "\n",
    "data = go.Pie( values=arq_faixa['Ano'], labels = arq_faixa['Conceito Enade (Faixa)'], marker=dict( colors=arq_faixa['Ano'])\n",
    ")\n",
    "\n",
    "layout={ 'width' : 600, 'height' :500,\n",
    "        'showlegend': False,\n",
    "        'title': \"Cursos de Arquitetura e Urbanismo do Brasil por conceito (Faixa)\"\n",
    "        }\n",
    "\n",
    "fig = go.Figure(data=data, layout=layout)\n",
    "pyo.plot(fig, filename='PieBrCondceitoFaixa.html')"
   ]
  },
  {
   "cell_type": "code",
   "execution_count": null,
   "metadata": {},
   "outputs": [],
   "source": [
    "uf = pd.read_csv('../dados/brasil.csv', header = 0)\n",
    "uf.head()"
   ]
  },
  {
   "cell_type": "code",
   "execution_count": null,
   "metadata": {},
   "outputs": [],
   "source": [
    "fltr = uf['REGIAO'] == 'NORDESTE'\n",
    "ne = uf[fltr]"
   ]
  },
  {
   "cell_type": "code",
   "execution_count": null,
   "metadata": {},
   "outputs": [],
   "source": [
    "listNe = ne['SIGLA'].unique()"
   ]
  },
  {
   "cell_type": "code",
   "execution_count": null,
   "metadata": {},
   "outputs": [],
   "source": [
    "fltr = uf['REGIAO'].isin(['NORDESTE', 'NORTE'])\n",
    "nne = uf[fltr]\n",
    "\n",
    "listNNe = nne['SIGLA'].unique()\n",
    "listNNe"
   ]
  },
  {
   "cell_type": "code",
   "execution_count": null,
   "metadata": {},
   "outputs": [],
   "source": [
    "fltr = arq['Sigla da UF'].isin(listNe)\n",
    "arq_ne = arq.loc[fltr]\n",
    "arq_ne.head()"
   ]
  },
  {
   "cell_type": "code",
   "execution_count": null,
   "metadata": {},
   "outputs": [],
   "source": [
    "arq_faixa_ne = arq_ne.groupby(['Conceito Enade (Faixa)']).count().reset_index()\n",
    "\n",
    "arq_faixa_ne.info()"
   ]
  },
  {
   "cell_type": "code",
   "execution_count": null,
   "metadata": {},
   "outputs": [],
   "source": [
    "data = [go.Bar(\n",
    "    x=arq_faixa_ne['Conceito Enade (Faixa)'],\n",
    "    y=arq_faixa_ne['Ano'],\n",
    "    marker=dict(color=arq_faixa_ne['Ano'],  colorscale ='peach')\n",
    ")]\n",
    "layout = go.Layout(\n",
    "    width=750, height=400,\n",
    "    title='Número de cursos de Arquitetura e Urbanismo do Nordeste por conceito (Faixa)',\n",
    "    yaxis=dict(\n",
    "        title_text=\"Número de cursos\"\n",
    "    ),\n",
    "     xaxis=dict(\n",
    "        title_text=\"Conceito (Faixa)\"\n",
    "    ),\n",
    "     hovermode = 'x'\n",
    ")\n",
    "fig = go.Figure(data=data, layout=layout)\n",
    "pyo.plot(fig, filename='BarNeCondceitoFaixa.html')"
   ]
  },
  {
   "cell_type": "code",
   "execution_count": null,
   "metadata": {},
   "outputs": [],
   "source": [
    "arq_faixa_ne  = arq_faixa_ne.sort_values(by='Conceito Enade (Faixa)')\n",
    "\n",
    "colors = ['chocolate', 'coral', 'cornflowerblue',\n",
    "                'goldenrod', 'crimson', 'chartreuse']\n",
    "\n",
    "data = go.Pie( values=arq_faixa_ne['Ano'], labels = arq_faixa_ne['Conceito Enade (Faixa)'], marker=dict( colors=colors)\n",
    ")\n",
    "\n",
    "layout={ 'width' : 650, 'height' :600,\n",
    "        'showlegend': True,\n",
    "        'title': \"Cursos de Arquitetura e Urbanismo do Nodeste por conceito (Faixa)\"\n",
    "        \n",
    "        }\n",
    "\n",
    "fig = go.Figure(data=data, layout=layout)\n",
    "pyo.plot(fig, filename='PieNeCondceitoFaixa.html')"
   ]
  },
  {
   "cell_type": "code",
   "execution_count": null,
   "metadata": {},
   "outputs": [],
   "source": [
    "fltr = arq['Sigla da UF'].isin(listNNe)\n",
    "arq_nne = arq.loc[fltr]\n",
    "arq_faixa_nne = arq_nne.groupby(['Conceito Enade (Faixa)']).count().reset_index()"
   ]
  },
  {
   "cell_type": "code",
   "execution_count": null,
   "metadata": {},
   "outputs": [],
   "source": [
    "data = [go.Bar(\n",
    "    x=arq_faixa_nne['Conceito Enade (Faixa)'],\n",
    "    y=arq_faixa_nne['Ano'],\n",
    "    marker=dict(color=arq_faixa_nne['Ano'],  colorscale ='portland')\n",
    ")]\n",
    "layout = go.Layout(\n",
    "    width=800, height=400,\n",
    "    title='Número de cursos de Arquitetura e Urbanismo do Norte-Nordeste por conceito (Faixa)',\n",
    "    yaxis=dict(\n",
    "        title_text=\"Número de cursos\"\n",
    "    ),\n",
    "     xaxis=dict(\n",
    "        title_text=\"Conceito (Faixa)\"\n",
    "    ),\n",
    "     hovermode = 'x'\n",
    ")\n",
    "fig = go.Figure(data=data, layout=layout)\n",
    "pyo.plot(fig, filename='BarNNeCondceitoFaixa.html')"
   ]
  },
  {
   "cell_type": "code",
   "execution_count": null,
   "metadata": {},
   "outputs": [],
   "source": [
    "arq_faixa_nne  = arq_faixa_nne.sort_values(by='Conceito Enade (Faixa)')\n",
    "\n",
    "colors = ['chocolate', 'coral', 'cornflowerblue',\n",
    "                'goldenrod', 'crimson', 'chartreuse']\n",
    "\n",
    "data = go.Pie( values=arq_faixa_nne['Ano'], labels = arq_faixa_nne['Conceito Enade (Faixa)'], marker=dict( colors=colors)\n",
    ")\n",
    "\n",
    "layout={ 'width' : 650, 'height' :600,\n",
    "        'showlegend': True,\n",
    "        'title': \"Cursos de Arquitetura e Urbanismo do Nodeste por conceito (Faixa)\"\n",
    "        \n",
    "        }\n",
    "\n",
    "fig = go.Figure(data=data, layout=layout)\n",
    "pyo.plot(fig, filename='PieNNeCondceitoFaixa.html')"
   ]
  },
  {
   "cell_type": "code",
   "execution_count": null,
   "metadata": {},
   "outputs": [],
   "source": [
    "fltr = arq['Sigla da UF'] == \"BA\"\n",
    "arq_BA = arq.loc[fltr]\n",
    "arq_faixa_BA = arq_BA.groupby(['Conceito Enade (Faixa)']).count().reset_index()"
   ]
  },
  {
   "cell_type": "code",
   "execution_count": null,
   "metadata": {},
   "outputs": [],
   "source": [
    "data = [go.Bar(\n",
    "    x=arq_faixa_BA['Conceito Enade (Faixa)'],\n",
    "    y=arq_faixa_BA['Ano'],\n",
    "    marker=dict(color=arq_faixa_BA['Ano'],  colorscale ='cividis')\n",
    ")]\n",
    "layout = go.Layout(\n",
    "    width=800, height=400,\n",
    "    title='Número de cursos de Arquitetura e Urbanismo da Bahia por conceito (Faixa)',\n",
    "    yaxis=dict(\n",
    "        title_text=\"Número de cursos\"\n",
    "    ),\n",
    "     xaxis=dict(\n",
    "        title_text=\"Conceito (Faixa)\"\n",
    "    ),\n",
    "     hovermode = 'x'\n",
    ")\n",
    "fig = go.Figure(data=data, layout=layout)\n",
    "pyo.plot(fig, filename='BarBACondceitoFaixa.html')"
   ]
  },
  {
   "cell_type": "code",
   "execution_count": null,
   "metadata": {},
   "outputs": [],
   "source": [
    "arq_faixa_BA  = arq_faixa_BA.sort_values(by='Conceito Enade (Faixa)')\n",
    "\n",
    "colors = ['chocolate', 'coral', 'cornflowerblue',\n",
    "                'goldenrod', 'crimson', 'chartreuse']\n",
    "\n",
    "data = go.Pie( values=arq_faixa_BA['Ano'], labels = arq_faixa_BA['Conceito Enade (Faixa)'], marker=dict( colors=colors)\n",
    ")\n",
    "\n",
    "layout={ 'width' : 650, 'height' :600,\n",
    "        'showlegend': True,\n",
    "        'title': \"Cursos de Arquitetura e Urbanismo da Bahia por conceito (Faixa)\"\n",
    "        \n",
    "        }\n",
    "\n",
    "fig = go.Figure(data=data, layout=layout)\n",
    "pyo.plot(fig, filename='PieBACondceitoFaixa.html')"
   ]
  },
  {
   "cell_type": "code",
   "execution_count": null,
   "metadata": {},
   "outputs": [],
   "source": [
    "arq['Conceito Enade (Contínuo)'] = arq['Conceito Enade (Contínuo)'].fillna(0.0)\n",
    "data = [go.Scatter( x = arq['Nome da IES'], y = arq['Conceito Enade (Contínuo)'], mode='markers',\n",
    "\n",
    "marker=dict(\n",
    "color=arq['Conceito Enade (Contínuo)'] , colorscale ='portland',\n",
    "        size= arq['Conceito Enade (Contínuo)'] *.5 + 10,\n",
    "    line = dict( width = np.where( arq['UFBA'] , 3, 0), color = 'black'\n",
    "\n",
    "                )\n",
    ")\n",
    ")]\n",
    "\n",
    "layout={ 'width' : 1200, 'height' :600,\n",
    "        'showlegend': False,\n",
    "        'title': \"Diagrama de dispersão: Cursos deArquitetura e Urbanismo Do Brasil por conceito (continuo)\",\n",
    "    \n",
    "        'xaxis': { 'visible': False}\n",
    "        }\n",
    "\n",
    "fig = go.Figure(data=data, layout = layout)\n",
    "pyo.plot(fig, filename='Continuo_disp_br.html')"
   ]
  },
  {
   "cell_type": "code",
   "execution_count": null,
   "metadata": {},
   "outputs": [],
   "source": []
  }
 ]
}